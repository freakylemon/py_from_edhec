{
 "cells": [
  {
   "cell_type": "markdown",
   "metadata": {},
   "source": [
    "# Fitting a Treasury Yield Curve"
   ]
  },
  {
   "cell_type": "markdown",
   "metadata": {
    "collapsed": true
   },
   "source": [
    "This section looks at how we might fit a yield curve using Nelson-Siegel"
   ]
  },
  {
   "cell_type": "code",
   "execution_count": 1,
   "metadata": {},
   "outputs": [],
   "source": [
    "import numpy as np\n",
    "import matplotlib.pyplot as plt\n",
    "%matplotlib inline"
   ]
  },
  {
   "cell_type": "markdown",
   "metadata": {},
   "source": [
    "## Calculating Flow Times"
   ]
  },
  {
   "cell_type": "markdown",
   "metadata": {},
   "source": [
    "It is important to calculate the cashflow times correctly.\n",
    "\n",
    "We distinguish between the calendar time t which is today and the payment time.\n",
    "\n",
    "The payment time is fixed but as we move through time the calendar time increases"
   ]
  },
  {
   "cell_type": "code",
   "execution_count": 2,
   "metadata": {},
   "outputs": [],
   "source": [
    "# Get the payment times for a bond with maturity in mat years at calendar time t\n",
    "def flowTimes(maturity, frequency):\n",
    "    small = 1e-10\n",
    "    numPaymentsMinusOne = int(maturity * frequency-small)\n",
    "    firstPayment = maturity - numPaymentsMinusOne / frequency\n",
    "    return np.linspace(firstPayment,maturity,numPaymentsMinusOne+1)"
   ]
  },
  {
   "cell_type": "code",
   "execution_count": 3,
   "metadata": {},
   "outputs": [
    {
     "data": {
      "text/plain": [
       "array([0.5, 1. ])"
      ]
     },
     "execution_count": 3,
     "metadata": {},
     "output_type": "execute_result"
    }
   ],
   "source": [
    "flowTimes(1.0,2)"
   ]
  },
  {
   "cell_type": "code",
   "execution_count": 4,
   "metadata": {},
   "outputs": [
    {
     "name": "stdout",
     "output_type": "stream",
     "text": [
      "[0.1 0.6 1.1 1.6 2.1 2.6 3.1]\n"
     ]
    }
   ],
   "source": [
    "print(flowTimes(3.1,2))"
   ]
  },
  {
   "cell_type": "code",
   "execution_count": 5,
   "metadata": {},
   "outputs": [
    {
     "name": "stdout",
     "output_type": "stream",
     "text": [
      "[0.5 1.  1.5 2.  2.5 3. ]\n"
     ]
    }
   ],
   "source": [
    "print(flowTimes(3.0,2))"
   ]
  },
  {
   "cell_type": "code",
   "execution_count": 6,
   "metadata": {},
   "outputs": [
    {
     "name": "stdout",
     "output_type": "stream",
     "text": [
      "[0.4 0.9 1.4 1.9 2.4 2.9]\n"
     ]
    }
   ],
   "source": [
    "print(flowTimes(2.9,2))"
   ]
  },
  {
   "cell_type": "code",
   "execution_count": 7,
   "metadata": {},
   "outputs": [
    {
     "name": "stdout",
     "output_type": "stream",
     "text": [
      "[ 0.5  1.   1.5  2.   2.5  3.   3.5  4.   4.5  5.   5.5  6.   6.5  7.\n",
      "  7.5  8.   8.5  9.   9.5 10. ]\n"
     ]
    }
   ],
   "source": [
    "print(flowTimes(10.0,2))"
   ]
  },
  {
   "cell_type": "markdown",
   "metadata": {
    "collapsed": true
   },
   "source": [
    "## Bond Price and Yield Calculations"
   ]
  },
  {
   "cell_type": "code",
   "execution_count": 36,
   "metadata": {},
   "outputs": [],
   "source": [
    "def bondFullPriceFromYield(y,maturity,coupon,frequency):\n",
    "    paymentTimes = flowTimes(maturity,frequency)    \n",
    "    price = 0.0\n",
    "    df = 1.0\n",
    "    for t in paymentTimes:\n",
    "        df = 1.0/(1.0 + y/frequency)**(t*frequency)\n",
    "        price += ( coupon / frequency ) * df\n",
    "        \n",
    "    price += df # par \n",
    "    return price"
   ]
  },
  {
   "cell_type": "code",
   "execution_count": 37,
   "metadata": {},
   "outputs": [],
   "source": [
    "def accruedInterest(maturity,coupon,frequency):\n",
    "    paymentTimes = flowTimes(maturity,frequency)    \n",
    "    accruedPeriod = 1.0/frequency - paymentTimes[0]\n",
    "    return accruedPeriod * coupon"
   ]
  },
  {
   "cell_type": "code",
   "execution_count": 38,
   "metadata": {},
   "outputs": [
    {
     "data": {
      "text/plain": [
       "1.0000000000000009"
      ]
     },
     "execution_count": 38,
     "metadata": {},
     "output_type": "execute_result"
    }
   ],
   "source": [
    "bondFullPriceFromYield(0.05,5.0,0.05,2)"
   ]
  },
  {
   "cell_type": "code",
   "execution_count": 39,
   "metadata": {},
   "outputs": [
    {
     "data": {
      "text/plain": [
       "1.0149258620941126"
      ]
     },
     "execution_count": 39,
     "metadata": {},
     "output_type": "execute_result"
    }
   ],
   "source": [
    "bondFullPriceFromYield(0.05,5.2,0.05,2)"
   ]
  },
  {
   "cell_type": "code",
   "execution_count": 40,
   "metadata": {},
   "outputs": [
    {
     "data": {
      "text/plain": [
       "1.019950493233111"
      ]
     },
     "execution_count": 40,
     "metadata": {},
     "output_type": "execute_result"
    }
   ],
   "source": [
    "bondFullPriceFromYield(0.05,5.1,0.05,2)"
   ]
  },
  {
   "cell_type": "code",
   "execution_count": 41,
   "metadata": {},
   "outputs": [
    {
     "data": {
      "text/plain": [
       "0.9999999999999998"
      ]
     },
     "execution_count": 41,
     "metadata": {},
     "output_type": "execute_result"
    }
   ],
   "source": [
    "bondFullPriceFromYield(0.06,5.0,0.06,2)"
   ]
  },
  {
   "cell_type": "code",
   "execution_count": 42,
   "metadata": {},
   "outputs": [
    {
     "data": {
      "text/plain": [
       "1.0000000000000029"
      ]
     },
     "execution_count": 42,
     "metadata": {},
     "output_type": "execute_result"
    }
   ],
   "source": [
    "bondFullPriceFromYield(0.06,10.0,0.06,4)"
   ]
  },
  {
   "cell_type": "markdown",
   "metadata": {},
   "source": [
    "## Bond Price Action"
   ]
  },
  {
   "cell_type": "markdown",
   "metadata": {},
   "source": [
    "Let's study how the price of a bond evolves through time"
   ]
  },
  {
   "cell_type": "code",
   "execution_count": 43,
   "metadata": {},
   "outputs": [],
   "source": [
    "def plotFullPriceAction(y, maturity, coupon, frequency):\n",
    "    \n",
    "    calendarTimes = np.linspace(0.0,maturity,1001)\n",
    "    fullPrices = []\n",
    "    cleanPrices = []\n",
    "\n",
    "    for t in calendarTimes:\n",
    "        yearsToMaturity = maturity - t\n",
    "        fullPrice = bondFullPriceFromYield(y, yearsToMaturity, coupon, frequency)\n",
    "        accrued = accruedInterest(yearsToMaturity, coupon, frequency)\n",
    "        cleanPrice = fullPrice - accrued\n",
    "        fullPrices.append(fullPrice*100)\n",
    "        cleanPrices.append(cleanPrice*100)\n",
    "\n",
    "    plt.figure(figsize=(12, 6))\n",
    "    plt.plot(calendarTimes, fullPrices, 'b', label = 'Full Price')\n",
    "    plt.plot(calendarTimes, cleanPrices, 'r', label = 'Clean Price')\n",
    "    plt.grid(True)\n",
    "    plt.xlabel('Calendar Time (years)')\n",
    "    plt.ylabel('Coupon Paying Bond Price')\n",
    "    plt.legend()"
   ]
  },
  {
   "cell_type": "code",
   "execution_count": 44,
   "metadata": {},
   "outputs": [
    {
     "data": {
      "image/png": "[encoded data removed]",
      "text/plain": [
       "<Figure size 864x432 with 1 Axes>"
      ]
     },
     "metadata": {},
     "output_type": "display_data"
    }
   ],
   "source": [
    "maturity = 5.0\n",
    "coupon = 0.08\n",
    "frequency = 1.0\n",
    "yld = 0.05\n",
    "\n",
    "plotFullPriceAction(yld, maturity, coupon, frequency)"
   ]
  },
  {
   "cell_type": "code",
   "execution_count": 45,
   "metadata": {},
   "outputs": [
    {
     "data": {
      "image/png": "[encoded data removed]",
      "text/plain": [
       "<Figure size 864x432 with 1 Axes>"
      ]
     },
     "metadata": {},
     "output_type": "display_data"
    }
   ],
   "source": [
    "maturity = 5.0\n",
    "coupon = 0.05\n",
    "frequency = 1.0\n",
    "yld = 0.05\n",
    "\n",
    "plotFullPriceAction(yld,maturity, coupon, frequency)"
   ]
  },
  {
   "cell_type": "code",
   "execution_count": 46,
   "metadata": {
    "scrolled": false
   },
   "outputs": [
    {
     "data": {
      "image/png": "[encoded data removed]",
      "text/plain": [
       "<Figure size 864x432 with 1 Axes>"
      ]
     },
     "metadata": {},
     "output_type": "display_data"
    }
   ],
   "source": [
    "maturity = 5.0\n",
    "coupon = 0.05\n",
    "frequency = 1.0\n",
    "yld = 0.08\n",
    "\n",
    "plotFullPriceAction(yld,maturity, coupon, frequency)"
   ]
  },
  {
   "cell_type": "markdown",
   "metadata": {},
   "source": [
    "## Yield Curve Building"
   ]
  },
  {
   "cell_type": "markdown",
   "metadata": {},
   "source": [
    "Look at fitting some bond prices on a yield curve by loading a set of bonds"
   ]
  },
  {
   "cell_type": "code",
   "execution_count": 47,
   "metadata": {},
   "outputs": [],
   "source": [
    "import pandas as pd\n",
    "bondDf = pd.read_csv('./data/giltbondprices.txt',sep='\\t')"
   ]
  },
  {
   "cell_type": "code",
   "execution_count": 48,
   "metadata": {},
   "outputs": [
    {
     "data": {
      "text/html": [
       "<div>\n",
       "<style scoped>\n",
       "    .dataframe tbody tr th:only-of-type {\n",
       "        vertical-align: middle;\n",
       "    }\n",
       "\n",
       "    .dataframe tbody tr th {\n",
       "        vertical-align: top;\n",
       "    }\n",
       "\n",
       "    .dataframe thead th {\n",
       "        text-align: right;\n",
       "    }\n",
       "</style>\n",
       "<table border=\"1\" class=\"dataframe\">\n",
       "  <thead>\n",
       "    <tr style=\"text-align: right;\">\n",
       "      <th></th>\n",
       "      <th>epic</th>\n",
       "      <th>description</th>\n",
       "      <th>coupon</th>\n",
       "      <th>maturity</th>\n",
       "      <th>bid</th>\n",
       "      <th>ask</th>\n",
       "      <th>change</th>\n",
       "      <th>income yield</th>\n",
       "      <th>gross redemption yield</th>\n",
       "    </tr>\n",
       "  </thead>\n",
       "  <tbody>\n",
       "    <tr>\n",
       "      <th>0</th>\n",
       "      <td>TR13</td>\n",
       "      <td>Uk Gilt Treasury Stk</td>\n",
       "      <td>4.50</td>\n",
       "      <td>07-Mar-13</td>\n",
       "      <td>101.92</td>\n",
       "      <td>102.07</td>\n",
       "      <td>-0.01</td>\n",
       "      <td>4.41</td>\n",
       "      <td>0.22</td>\n",
       "    </tr>\n",
       "    <tr>\n",
       "      <th>1</th>\n",
       "      <td>T813</td>\n",
       "      <td>Uk Gilt Treasury Stk</td>\n",
       "      <td>8.00</td>\n",
       "      <td>27-Sep-13</td>\n",
       "      <td>107.86</td>\n",
       "      <td>107.98</td>\n",
       "      <td>-0.03</td>\n",
       "      <td>7.41</td>\n",
       "      <td>0.23</td>\n",
       "    </tr>\n",
       "    <tr>\n",
       "      <th>2</th>\n",
       "      <td>TR14</td>\n",
       "      <td>Uk Gilt Treasury Stk</td>\n",
       "      <td>2.25</td>\n",
       "      <td>07-Mar-14</td>\n",
       "      <td>102.90</td>\n",
       "      <td>103.05</td>\n",
       "      <td>0.01</td>\n",
       "      <td>2.18</td>\n",
       "      <td>0.22</td>\n",
       "    </tr>\n",
       "    <tr>\n",
       "      <th>3</th>\n",
       "      <td>T514</td>\n",
       "      <td>Uk Gilt Treasury Stk</td>\n",
       "      <td>5.00</td>\n",
       "      <td>07-Sep-14</td>\n",
       "      <td>109.28</td>\n",
       "      <td>109.43</td>\n",
       "      <td>0.02</td>\n",
       "      <td>4.57</td>\n",
       "      <td>0.23</td>\n",
       "    </tr>\n",
       "    <tr>\n",
       "      <th>4</th>\n",
       "      <td>TR15</td>\n",
       "      <td>Uk Gilt Treasury Stk</td>\n",
       "      <td>2.75</td>\n",
       "      <td>22-Jan-15</td>\n",
       "      <td>105.57</td>\n",
       "      <td>105.68</td>\n",
       "      <td>0.05</td>\n",
       "      <td>2.60</td>\n",
       "      <td>0.33</td>\n",
       "    </tr>\n",
       "  </tbody>\n",
       "</table>\n",
       "</div>"
      ],
      "text/plain": [
       "   epic           description  coupon   maturity     bid     ask  change  \\\n",
       "0  TR13  Uk Gilt Treasury Stk    4.50  07-Mar-13  101.92  102.07   -0.01   \n",
       "1  T813  Uk Gilt Treasury Stk    8.00  27-Sep-13  107.86  107.98   -0.03   \n",
       "2  TR14  Uk Gilt Treasury Stk    2.25  07-Mar-14  102.90  103.05    0.01   \n",
       "3  T514  Uk Gilt Treasury Stk    5.00  07-Sep-14  109.28  109.43    0.02   \n",
       "4  TR15  Uk Gilt Treasury Stk    2.75  22-Jan-15  105.57  105.68    0.05   \n",
       "\n",
       "   income yield  gross redemption yield  \n",
       "0          4.41                    0.22  \n",
       "1          7.41                    0.23  \n",
       "2          2.18                    0.22  \n",
       "3          4.57                    0.23  \n",
       "4          2.60                    0.33  "
      ]
     },
     "execution_count": 48,
     "metadata": {},
     "output_type": "execute_result"
    }
   ],
   "source": [
    "bondDf.head()"
   ]
  },
  {
   "cell_type": "code",
   "execution_count": 49,
   "metadata": {},
   "outputs": [
    {
     "name": "stdout",
     "output_type": "stream",
     "text": [
      "<class 'pandas.core.frame.DataFrame'>\n",
      "RangeIndex: 33 entries, 0 to 32\n",
      "Data columns (total 9 columns):\n",
      "epic                      33 non-null object\n",
      "description               33 non-null object\n",
      "coupon                    33 non-null float64\n",
      "maturity                  33 non-null object\n",
      "bid                       33 non-null float64\n",
      "ask                       33 non-null float64\n",
      "change                    33 non-null float64\n",
      "income yield              33 non-null float64\n",
      "gross redemption yield    33 non-null float64\n",
      "dtypes: float64(6), object(3)\n",
      "memory usage: 2.4+ KB\n"
     ]
    }
   ],
   "source": [
    "bondDf.info()"
   ]
  },
  {
   "cell_type": "code",
   "execution_count": 50,
   "metadata": {},
   "outputs": [],
   "source": [
    "bondDf['mid'] = 0.5*(bondDf['bid'] + bondDf['ask'])"
   ]
  },
  {
   "cell_type": "code",
   "execution_count": 51,
   "metadata": {},
   "outputs": [
    {
     "data": {
      "text/html": [
       "<div>\n",
       "<style scoped>\n",
       "    .dataframe tbody tr th:only-of-type {\n",
       "        vertical-align: middle;\n",
       "    }\n",
       "\n",
       "    .dataframe tbody tr th {\n",
       "        vertical-align: top;\n",
       "    }\n",
       "\n",
       "    .dataframe thead th {\n",
       "        text-align: right;\n",
       "    }\n",
       "</style>\n",
       "<table border=\"1\" class=\"dataframe\">\n",
       "  <thead>\n",
       "    <tr style=\"text-align: right;\">\n",
       "      <th></th>\n",
       "      <th>epic</th>\n",
       "      <th>description</th>\n",
       "      <th>coupon</th>\n",
       "      <th>maturity</th>\n",
       "      <th>bid</th>\n",
       "      <th>ask</th>\n",
       "      <th>change</th>\n",
       "      <th>income yield</th>\n",
       "      <th>gross redemption yield</th>\n",
       "      <th>mid</th>\n",
       "    </tr>\n",
       "  </thead>\n",
       "  <tbody>\n",
       "    <tr>\n",
       "      <th>0</th>\n",
       "      <td>TR13</td>\n",
       "      <td>Uk Gilt Treasury Stk</td>\n",
       "      <td>4.50</td>\n",
       "      <td>07-Mar-13</td>\n",
       "      <td>101.92</td>\n",
       "      <td>102.07</td>\n",
       "      <td>-0.01</td>\n",
       "      <td>4.41</td>\n",
       "      <td>0.22</td>\n",
       "      <td>101.995</td>\n",
       "    </tr>\n",
       "    <tr>\n",
       "      <th>1</th>\n",
       "      <td>T813</td>\n",
       "      <td>Uk Gilt Treasury Stk</td>\n",
       "      <td>8.00</td>\n",
       "      <td>27-Sep-13</td>\n",
       "      <td>107.86</td>\n",
       "      <td>107.98</td>\n",
       "      <td>-0.03</td>\n",
       "      <td>7.41</td>\n",
       "      <td>0.23</td>\n",
       "      <td>107.920</td>\n",
       "    </tr>\n",
       "    <tr>\n",
       "      <th>2</th>\n",
       "      <td>TR14</td>\n",
       "      <td>Uk Gilt Treasury Stk</td>\n",
       "      <td>2.25</td>\n",
       "      <td>07-Mar-14</td>\n",
       "      <td>102.90</td>\n",
       "      <td>103.05</td>\n",
       "      <td>0.01</td>\n",
       "      <td>2.18</td>\n",
       "      <td>0.22</td>\n",
       "      <td>102.975</td>\n",
       "    </tr>\n",
       "    <tr>\n",
       "      <th>3</th>\n",
       "      <td>T514</td>\n",
       "      <td>Uk Gilt Treasury Stk</td>\n",
       "      <td>5.00</td>\n",
       "      <td>07-Sep-14</td>\n",
       "      <td>109.28</td>\n",
       "      <td>109.43</td>\n",
       "      <td>0.02</td>\n",
       "      <td>4.57</td>\n",
       "      <td>0.23</td>\n",
       "      <td>109.355</td>\n",
       "    </tr>\n",
       "    <tr>\n",
       "      <th>4</th>\n",
       "      <td>TR15</td>\n",
       "      <td>Uk Gilt Treasury Stk</td>\n",
       "      <td>2.75</td>\n",
       "      <td>22-Jan-15</td>\n",
       "      <td>105.57</td>\n",
       "      <td>105.68</td>\n",
       "      <td>0.05</td>\n",
       "      <td>2.60</td>\n",
       "      <td>0.33</td>\n",
       "      <td>105.625</td>\n",
       "    </tr>\n",
       "  </tbody>\n",
       "</table>\n",
       "</div>"
      ],
      "text/plain": [
       "   epic           description  coupon   maturity     bid     ask  change  \\\n",
       "0  TR13  Uk Gilt Treasury Stk    4.50  07-Mar-13  101.92  102.07   -0.01   \n",
       "1  T813  Uk Gilt Treasury Stk    8.00  27-Sep-13  107.86  107.98   -0.03   \n",
       "2  TR14  Uk Gilt Treasury Stk    2.25  07-Mar-14  102.90  103.05    0.01   \n",
       "3  T514  Uk Gilt Treasury Stk    5.00  07-Sep-14  109.28  109.43    0.02   \n",
       "4  TR15  Uk Gilt Treasury Stk    2.75  22-Jan-15  105.57  105.68    0.05   \n",
       "\n",
       "   income yield  gross redemption yield      mid  \n",
       "0          4.41                    0.22  101.995  \n",
       "1          7.41                    0.23  107.920  \n",
       "2          2.18                    0.22  102.975  \n",
       "3          4.57                    0.23  109.355  \n",
       "4          2.60                    0.33  105.625  "
      ]
     },
     "execution_count": 51,
     "metadata": {},
     "output_type": "execute_result"
    }
   ],
   "source": [
    "bondDf.head()"
   ]
  },
  {
   "cell_type": "code",
   "execution_count": 52,
   "metadata": {},
   "outputs": [],
   "source": [
    "# income yield has been calculated like this\n",
    "yld = bondDf['coupon']/bondDf['mid']*100"
   ]
  },
  {
   "cell_type": "markdown",
   "metadata": {},
   "source": [
    "## Calculating the Yield to Maturity"
   ]
  },
  {
   "cell_type": "code",
   "execution_count": 53,
   "metadata": {},
   "outputs": [],
   "source": [
    "# Calculation of the yield requires the solution of a non-linear equation\n",
    "import scipy.optimize as optimize"
   ]
  },
  {
   "cell_type": "code",
   "execution_count": 57,
   "metadata": {},
   "outputs": [],
   "source": [
    "import datetime as dt\n",
    "def yearFrac(d1,d2):\n",
    "    dateDiff = d2 - d1\n",
    "    yearFraction = dateDiff.days / 365.242\n",
    "    return yearFraction"
   ]
  },
  {
   "cell_type": "code",
   "execution_count": 58,
   "metadata": {},
   "outputs": [],
   "source": [
    "# This function returns the bond yield if I input a full price\n",
    "def bondFullPriceToYield(fullPrice,maturity,coupon,frequency):\n",
    "    \n",
    "    paymentTimes = flowTimes(maturity,frequency) \n",
    "    \n",
    "    # We use a Lambda function\n",
    "    ytm_func = lambda y: \\\n",
    "        sum([(coupon/frequency)/(1.0+y/frequency)**(frequency*pmtTime) for pmtTime in paymentTimes ]) + \\\n",
    "        1.0/(1.0+y/frequency)**(frequency*paymentTimes[-1]) - fullPrice\n",
    "    \n",
    "    initial_guess = 0.05\n",
    "    \n",
    "    return optimize.newton(ytm_func, initial_guess)"
   ]
  },
  {
   "cell_type": "code",
   "execution_count": 59,
   "metadata": {},
   "outputs": [],
   "source": [
    "# Don't use the word yield as a variable as that is protected\n",
    "ytms = []\n",
    "yearsToMaturities = []\n",
    "fullPrices = []\n",
    "\n",
    "settlement = dt.datetime(2012,9,19)\n",
    "for index, bond in bondDf.iterrows():\n",
    "\n",
    "    dateString = bond['maturity']\n",
    "    maturityDt = dt.datetime.strptime(dateString, '%d-%b-%y')\n",
    "    yearsToMaturity = yearFrac(settlement,maturityDt)\n",
    "\n",
    "    coupon = bond['coupon']/100.0\n",
    "    frequency = 2\n",
    "    cleanPrice = bond['mid']/100.0 \n",
    "\n",
    "    accrued = accruedInterest(yearsToMaturity,coupon,frequency)\n",
    "    fullPrice = cleanPrice + accrued\n",
    "    \n",
    "    ytm = bondFullPriceToYield(fullPrice, yearsToMaturity, coupon, frequency)    \n",
    "\n",
    "    fullPrices.append(fullPrice*100)\n",
    "    ytms.append(ytm*100.0)\n",
    "    yearsToMaturities.append(yearsToMaturity)"
   ]
  },
  {
   "cell_type": "code",
   "execution_count": 60,
   "metadata": {},
   "outputs": [],
   "source": [
    "bondDf['ytm'] = ytms\n",
    "bondDf['yearsToMaturity'] = yearsToMaturities\n",
    "bondDf['fullPrice'] = fullPrices"
   ]
  },
  {
   "cell_type": "code",
   "execution_count": 61,
   "metadata": {},
   "outputs": [
    {
     "data": {
      "text/html": [
       "<div>\n",
       "<style scoped>\n",
       "    .dataframe tbody tr th:only-of-type {\n",
       "        vertical-align: middle;\n",
       "    }\n",
       "\n",
       "    .dataframe tbody tr th {\n",
       "        vertical-align: top;\n",
       "    }\n",
       "\n",
       "    .dataframe thead th {\n",
       "        text-align: right;\n",
       "    }\n",
       "</style>\n",
       "<table border=\"1\" class=\"dataframe\">\n",
       "  <thead>\n",
       "    <tr style=\"text-align: right;\">\n",
       "      <th></th>\n",
       "      <th>epic</th>\n",
       "      <th>description</th>\n",
       "      <th>coupon</th>\n",
       "      <th>maturity</th>\n",
       "      <th>bid</th>\n",
       "      <th>ask</th>\n",
       "      <th>change</th>\n",
       "      <th>income yield</th>\n",
       "      <th>gross redemption yield</th>\n",
       "      <th>mid</th>\n",
       "      <th>ytm</th>\n",
       "      <th>yearsToMaturity</th>\n",
       "      <th>fullPrice</th>\n",
       "    </tr>\n",
       "  </thead>\n",
       "  <tbody>\n",
       "    <tr>\n",
       "      <th>0</th>\n",
       "      <td>TR13</td>\n",
       "      <td>Uk Gilt Treasury Stk</td>\n",
       "      <td>4.50</td>\n",
       "      <td>07-Mar-13</td>\n",
       "      <td>101.92</td>\n",
       "      <td>102.07</td>\n",
       "      <td>-0.01</td>\n",
       "      <td>4.41</td>\n",
       "      <td>0.22</td>\n",
       "      <td>101.995</td>\n",
       "      <td>0.184433</td>\n",
       "      <td>0.462707</td>\n",
       "      <td>102.162819</td>\n",
       "    </tr>\n",
       "    <tr>\n",
       "      <th>1</th>\n",
       "      <td>T813</td>\n",
       "      <td>Uk Gilt Treasury Stk</td>\n",
       "      <td>8.00</td>\n",
       "      <td>27-Sep-13</td>\n",
       "      <td>107.86</td>\n",
       "      <td>107.98</td>\n",
       "      <td>-0.03</td>\n",
       "      <td>7.41</td>\n",
       "      <td>0.23</td>\n",
       "      <td>107.920</td>\n",
       "      <td>0.231006</td>\n",
       "      <td>1.021241</td>\n",
       "      <td>111.750074</td>\n",
       "    </tr>\n",
       "    <tr>\n",
       "      <th>2</th>\n",
       "      <td>TR14</td>\n",
       "      <td>Uk Gilt Treasury Stk</td>\n",
       "      <td>2.25</td>\n",
       "      <td>07-Mar-14</td>\n",
       "      <td>102.90</td>\n",
       "      <td>103.05</td>\n",
       "      <td>0.01</td>\n",
       "      <td>2.18</td>\n",
       "      <td>0.22</td>\n",
       "      <td>102.975</td>\n",
       "      <td>0.210937</td>\n",
       "      <td>1.462044</td>\n",
       "      <td>103.060400</td>\n",
       "    </tr>\n",
       "    <tr>\n",
       "      <th>3</th>\n",
       "      <td>T514</td>\n",
       "      <td>Uk Gilt Treasury Stk</td>\n",
       "      <td>5.00</td>\n",
       "      <td>07-Sep-14</td>\n",
       "      <td>109.28</td>\n",
       "      <td>109.43</td>\n",
       "      <td>0.02</td>\n",
       "      <td>4.57</td>\n",
       "      <td>0.23</td>\n",
       "      <td>109.355</td>\n",
       "      <td>0.227755</td>\n",
       "      <td>1.965820</td>\n",
       "      <td>109.525900</td>\n",
       "    </tr>\n",
       "    <tr>\n",
       "      <th>4</th>\n",
       "      <td>TR15</td>\n",
       "      <td>Uk Gilt Treasury Stk</td>\n",
       "      <td>2.75</td>\n",
       "      <td>22-Jan-15</td>\n",
       "      <td>105.57</td>\n",
       "      <td>105.68</td>\n",
       "      <td>0.05</td>\n",
       "      <td>2.60</td>\n",
       "      <td>0.33</td>\n",
       "      <td>105.625</td>\n",
       "      <td>0.335521</td>\n",
       "      <td>2.340914</td>\n",
       "      <td>106.062487</td>\n",
       "    </tr>\n",
       "    <tr>\n",
       "      <th>5</th>\n",
       "      <td>T4T</td>\n",
       "      <td>Uk Gilt Treasury Stk</td>\n",
       "      <td>4.75</td>\n",
       "      <td>07-Sep-15</td>\n",
       "      <td>112.92</td>\n",
       "      <td>113.04</td>\n",
       "      <td>0.04</td>\n",
       "      <td>4.20</td>\n",
       "      <td>0.35</td>\n",
       "      <td>112.980</td>\n",
       "      <td>0.346156</td>\n",
       "      <td>2.965157</td>\n",
       "      <td>113.145503</td>\n",
       "    </tr>\n",
       "    <tr>\n",
       "      <th>6</th>\n",
       "      <td>TY8</td>\n",
       "      <td>Uk Gilt Treasury Stk</td>\n",
       "      <td>8.00</td>\n",
       "      <td>07-Dec-15</td>\n",
       "      <td>124.39</td>\n",
       "      <td>124.55</td>\n",
       "      <td>0.04</td>\n",
       "      <td>6.43</td>\n",
       "      <td>0.34</td>\n",
       "      <td>124.470</td>\n",
       "      <td>0.338913</td>\n",
       "      <td>3.214307</td>\n",
       "      <td>126.755542</td>\n",
       "    </tr>\n",
       "    <tr>\n",
       "      <th>7</th>\n",
       "      <td>TS16</td>\n",
       "      <td>Uk Gilt Treasury Stk</td>\n",
       "      <td>2.00</td>\n",
       "      <td>22-Jan-16</td>\n",
       "      <td>104.92</td>\n",
       "      <td>105.04</td>\n",
       "      <td>0.07</td>\n",
       "      <td>1.91</td>\n",
       "      <td>0.49</td>\n",
       "      <td>104.980</td>\n",
       "      <td>0.494815</td>\n",
       "      <td>3.340251</td>\n",
       "      <td>105.299498</td>\n",
       "    </tr>\n",
       "    <tr>\n",
       "      <th>8</th>\n",
       "      <td>T16</td>\n",
       "      <td>Uk Gilt Treasury Stk</td>\n",
       "      <td>4.00</td>\n",
       "      <td>07-Sep-16</td>\n",
       "      <td>113.44</td>\n",
       "      <td>113.55</td>\n",
       "      <td>0.08</td>\n",
       "      <td>3.52</td>\n",
       "      <td>0.56</td>\n",
       "      <td>113.495</td>\n",
       "      <td>0.555964</td>\n",
       "      <td>3.967233</td>\n",
       "      <td>113.626069</td>\n",
       "    </tr>\n",
       "    <tr>\n",
       "      <th>9</th>\n",
       "      <td>TR17</td>\n",
       "      <td>Uk Gilt Treasury Stk</td>\n",
       "      <td>8.75</td>\n",
       "      <td>25-Aug-17</td>\n",
       "      <td>138.48</td>\n",
       "      <td>138.66</td>\n",
       "      <td>0.14</td>\n",
       "      <td>6.31</td>\n",
       "      <td>0.77</td>\n",
       "      <td>138.570</td>\n",
       "      <td>0.764514</td>\n",
       "      <td>4.930977</td>\n",
       "      <td>139.173949</td>\n",
       "    </tr>\n",
       "    <tr>\n",
       "      <th>10</th>\n",
       "      <td>T18</td>\n",
       "      <td>Uk Gilt Treasury Stk</td>\n",
       "      <td>5.00</td>\n",
       "      <td>07-Mar-18</td>\n",
       "      <td>121.74</td>\n",
       "      <td>121.84</td>\n",
       "      <td>0.16</td>\n",
       "      <td>4.11</td>\n",
       "      <td>0.91</td>\n",
       "      <td>121.790</td>\n",
       "      <td>0.902512</td>\n",
       "      <td>5.462132</td>\n",
       "      <td>121.979340</td>\n",
       "    </tr>\n",
       "    <tr>\n",
       "      <th>11</th>\n",
       "      <td>T19</td>\n",
       "      <td>Uk Gilt Treasury Stk</td>\n",
       "      <td>4.50</td>\n",
       "      <td>07-Mar-19</td>\n",
       "      <td>121.28</td>\n",
       "      <td>121.41</td>\n",
       "      <td>0.23</td>\n",
       "      <td>3.71</td>\n",
       "      <td>1.07</td>\n",
       "      <td>121.345</td>\n",
       "      <td>1.071939</td>\n",
       "      <td>6.461469</td>\n",
       "      <td>121.518388</td>\n",
       "    </tr>\n",
       "    <tr>\n",
       "      <th>12</th>\n",
       "      <td>TR19</td>\n",
       "      <td>Uk Gilt Treasury Stk</td>\n",
       "      <td>3.75</td>\n",
       "      <td>07-Sep-19</td>\n",
       "      <td>116.50</td>\n",
       "      <td>117.13</td>\n",
       "      <td>0.26</td>\n",
       "      <td>3.21</td>\n",
       "      <td>1.22</td>\n",
       "      <td>116.815</td>\n",
       "      <td>1.224064</td>\n",
       "      <td>6.965245</td>\n",
       "      <td>116.945331</td>\n",
       "    </tr>\n",
       "    <tr>\n",
       "      <th>13</th>\n",
       "      <td>TS20</td>\n",
       "      <td>Uk Gilt Treasury Stk</td>\n",
       "      <td>4.75</td>\n",
       "      <td>07-Mar-20</td>\n",
       "      <td>124.24</td>\n",
       "      <td>124.36</td>\n",
       "      <td>0.28</td>\n",
       "      <td>3.82</td>\n",
       "      <td>1.32</td>\n",
       "      <td>124.300</td>\n",
       "      <td>1.320320</td>\n",
       "      <td>7.463545</td>\n",
       "      <td>124.473163</td>\n",
       "    </tr>\n",
       "    <tr>\n",
       "      <th>14</th>\n",
       "      <td>TR20</td>\n",
       "      <td>Uk Gilt Treasury Stk</td>\n",
       "      <td>3.75</td>\n",
       "      <td>07-Sep-20</td>\n",
       "      <td>117.25</td>\n",
       "      <td>117.50</td>\n",
       "      <td>0.32</td>\n",
       "      <td>3.19</td>\n",
       "      <td>1.43</td>\n",
       "      <td>117.375</td>\n",
       "      <td>1.434375</td>\n",
       "      <td>7.967320</td>\n",
       "      <td>117.497549</td>\n",
       "    </tr>\n",
       "    <tr>\n",
       "      <th>15</th>\n",
       "      <td>TR21</td>\n",
       "      <td>Uk Gilt Treasury Stk</td>\n",
       "      <td>8.00</td>\n",
       "      <td>07-Jun-21</td>\n",
       "      <td>152.25</td>\n",
       "      <td>153.61</td>\n",
       "      <td>0.42</td>\n",
       "      <td>5.23</td>\n",
       "      <td>1.50</td>\n",
       "      <td>152.930</td>\n",
       "      <td>1.498154</td>\n",
       "      <td>8.714770</td>\n",
       "      <td>155.211841</td>\n",
       "    </tr>\n",
       "    <tr>\n",
       "      <th>16</th>\n",
       "      <td>TY21</td>\n",
       "      <td>Uk Gilt Treasury Stk</td>\n",
       "      <td>3.75</td>\n",
       "      <td>07-Sep-21</td>\n",
       "      <td>117.62</td>\n",
       "      <td>117.77</td>\n",
       "      <td>0.38</td>\n",
       "      <td>3.19</td>\n",
       "      <td>1.62</td>\n",
       "      <td>117.695</td>\n",
       "      <td>1.621599</td>\n",
       "      <td>8.966658</td>\n",
       "      <td>117.820034</td>\n",
       "    </tr>\n",
       "    <tr>\n",
       "      <th>17</th>\n",
       "      <td>TR22</td>\n",
       "      <td>Uk Gilt Treasury Stk</td>\n",
       "      <td>4.00</td>\n",
       "      <td>07-Mar-22</td>\n",
       "      <td>119.92</td>\n",
       "      <td>120.12</td>\n",
       "      <td>0.41</td>\n",
       "      <td>3.33</td>\n",
       "      <td>1.70</td>\n",
       "      <td>120.020</td>\n",
       "      <td>1.700413</td>\n",
       "      <td>9.462220</td>\n",
       "      <td>120.171122</td>\n",
       "    </tr>\n",
       "    <tr>\n",
       "      <th>18</th>\n",
       "      <td>TR25</td>\n",
       "      <td>Uk Gilt Treasury Stk</td>\n",
       "      <td>5.00</td>\n",
       "      <td>07-Mar-25</td>\n",
       "      <td>131.89</td>\n",
       "      <td>132.19</td>\n",
       "      <td>0.52</td>\n",
       "      <td>3.79</td>\n",
       "      <td>2.07</td>\n",
       "      <td>132.040</td>\n",
       "      <td>2.070033</td>\n",
       "      <td>12.462970</td>\n",
       "      <td>132.225151</td>\n",
       "    </tr>\n",
       "    <tr>\n",
       "      <th>19</th>\n",
       "      <td>TR27</td>\n",
       "      <td>Uk Gilt Treasury Stk</td>\n",
       "      <td>4.25</td>\n",
       "      <td>07-Dec-27</td>\n",
       "      <td>123.78</td>\n",
       "      <td>124.33</td>\n",
       "      <td>0.58</td>\n",
       "      <td>3.43</td>\n",
       "      <td>2.36</td>\n",
       "      <td>124.055</td>\n",
       "      <td>2.358857</td>\n",
       "      <td>15.214570</td>\n",
       "      <td>125.268077</td>\n",
       "    </tr>\n",
       "    <tr>\n",
       "      <th>20</th>\n",
       "      <td>TR28</td>\n",
       "      <td>Uk Gilt Treasury Stk</td>\n",
       "      <td>6.00</td>\n",
       "      <td>07-Dec-28</td>\n",
       "      <td>148.21</td>\n",
       "      <td>148.26</td>\n",
       "      <td>0.68</td>\n",
       "      <td>4.05</td>\n",
       "      <td>2.39</td>\n",
       "      <td>148.235</td>\n",
       "      <td>2.393277</td>\n",
       "      <td>16.216645</td>\n",
       "      <td>149.935128</td>\n",
       "    </tr>\n",
       "    <tr>\n",
       "      <th>21</th>\n",
       "      <td>TR30</td>\n",
       "      <td>Uk Gilt Treasury Stk</td>\n",
       "      <td>4.75</td>\n",
       "      <td>07-Dec-30</td>\n",
       "      <td>130.96</td>\n",
       "      <td>131.14</td>\n",
       "      <td>0.55</td>\n",
       "      <td>3.62</td>\n",
       "      <td>2.60</td>\n",
       "      <td>131.050</td>\n",
       "      <td>2.599058</td>\n",
       "      <td>18.215320</td>\n",
       "      <td>132.402229</td>\n",
       "    </tr>\n",
       "    <tr>\n",
       "      <th>22</th>\n",
       "      <td>TR32</td>\n",
       "      <td>Uk Gilt Treasury Stk</td>\n",
       "      <td>4.25</td>\n",
       "      <td>07-Jun-32</td>\n",
       "      <td>122.93</td>\n",
       "      <td>123.08</td>\n",
       "      <td>0.54</td>\n",
       "      <td>3.46</td>\n",
       "      <td>2.73</td>\n",
       "      <td>123.005</td>\n",
       "      <td>2.732741</td>\n",
       "      <td>19.715695</td>\n",
       "      <td>124.213295</td>\n",
       "    </tr>\n",
       "    <tr>\n",
       "      <th>23</th>\n",
       "      <td>T34</td>\n",
       "      <td>Uk Gilt Treasury Stk</td>\n",
       "      <td>4.50</td>\n",
       "      <td>07-Sep-34</td>\n",
       "      <td>126.09</td>\n",
       "      <td>126.18</td>\n",
       "      <td>0.58</td>\n",
       "      <td>3.57</td>\n",
       "      <td>2.89</td>\n",
       "      <td>126.135</td>\n",
       "      <td>2.885279</td>\n",
       "      <td>21.966258</td>\n",
       "      <td>126.286839</td>\n",
       "    </tr>\n",
       "    <tr>\n",
       "      <th>24</th>\n",
       "      <td>T4Q</td>\n",
       "      <td>Uk Gilt Treasury Stk</td>\n",
       "      <td>4.25</td>\n",
       "      <td>07-Mar-36</td>\n",
       "      <td>121.46</td>\n",
       "      <td>121.71</td>\n",
       "      <td>0.53</td>\n",
       "      <td>3.50</td>\n",
       "      <td>2.97</td>\n",
       "      <td>121.585</td>\n",
       "      <td>2.966474</td>\n",
       "      <td>23.463895</td>\n",
       "      <td>121.738446</td>\n",
       "    </tr>\n",
       "    <tr>\n",
       "      <th>25</th>\n",
       "      <td>TR38</td>\n",
       "      <td>Uk Gilt Treasury Stk</td>\n",
       "      <td>4.75</td>\n",
       "      <td>07-Dec-38</td>\n",
       "      <td>130.70</td>\n",
       "      <td>130.80</td>\n",
       "      <td>0.55</td>\n",
       "      <td>3.63</td>\n",
       "      <td>3.04</td>\n",
       "      <td>130.750</td>\n",
       "      <td>3.039591</td>\n",
       "      <td>26.215495</td>\n",
       "      <td>132.101396</td>\n",
       "    </tr>\n",
       "    <tr>\n",
       "      <th>26</th>\n",
       "      <td>T39</td>\n",
       "      <td>Uk Gilt Treasury Stk</td>\n",
       "      <td>4.25</td>\n",
       "      <td>07-Sep-39</td>\n",
       "      <td>120.90</td>\n",
       "      <td>121.15</td>\n",
       "      <td>0.54</td>\n",
       "      <td>3.51</td>\n",
       "      <td>3.09</td>\n",
       "      <td>121.025</td>\n",
       "      <td>3.094527</td>\n",
       "      <td>26.965683</td>\n",
       "      <td>121.170847</td>\n",
       "    </tr>\n",
       "    <tr>\n",
       "      <th>27</th>\n",
       "      <td>T40</td>\n",
       "      <td>Uk Gilt Treasury Stk</td>\n",
       "      <td>4.25</td>\n",
       "      <td>07-Dec-40</td>\n",
       "      <td>120.55</td>\n",
       "      <td>120.93</td>\n",
       "      <td>0.53</td>\n",
       "      <td>3.52</td>\n",
       "      <td>3.14</td>\n",
       "      <td>120.740</td>\n",
       "      <td>3.136725</td>\n",
       "      <td>28.216908</td>\n",
       "      <td>121.943140</td>\n",
       "    </tr>\n",
       "    <tr>\n",
       "      <th>28</th>\n",
       "      <td>T42</td>\n",
       "      <td>Uk Gilt Treasury Stk</td>\n",
       "      <td>4.50</td>\n",
       "      <td>07-Dec-42</td>\n",
       "      <td>125.77</td>\n",
       "      <td>126.07</td>\n",
       "      <td>0.58</td>\n",
       "      <td>3.57</td>\n",
       "      <td>3.16</td>\n",
       "      <td>125.920</td>\n",
       "      <td>3.161648</td>\n",
       "      <td>30.215583</td>\n",
       "      <td>127.199876</td>\n",
       "    </tr>\n",
       "    <tr>\n",
       "      <th>29</th>\n",
       "      <td>T46</td>\n",
       "      <td>Uk Gilt Treasury Stk</td>\n",
       "      <td>4.25</td>\n",
       "      <td>07-Dec-46</td>\n",
       "      <td>120.93</td>\n",
       "      <td>121.37</td>\n",
       "      <td>0.56</td>\n",
       "      <td>3.51</td>\n",
       "      <td>3.22</td>\n",
       "      <td>121.150</td>\n",
       "      <td>3.224680</td>\n",
       "      <td>34.215671</td>\n",
       "      <td>122.358399</td>\n",
       "    </tr>\n",
       "    <tr>\n",
       "      <th>30</th>\n",
       "      <td>T49</td>\n",
       "      <td>Uk Gilt Treasury Stk</td>\n",
       "      <td>4.25</td>\n",
       "      <td>07-Dec-49</td>\n",
       "      <td>120.99</td>\n",
       "      <td>121.34</td>\n",
       "      <td>0.53</td>\n",
       "      <td>3.51</td>\n",
       "      <td>3.26</td>\n",
       "      <td>121.165</td>\n",
       "      <td>3.263405</td>\n",
       "      <td>37.216421</td>\n",
       "      <td>122.370211</td>\n",
       "    </tr>\n",
       "    <tr>\n",
       "      <th>31</th>\n",
       "      <td>TR4Q</td>\n",
       "      <td>Uk Gilt Treasury Stk</td>\n",
       "      <td>4.25</td>\n",
       "      <td>07-Dec-55</td>\n",
       "      <td>122.49</td>\n",
       "      <td>122.90</td>\n",
       "      <td>0.55</td>\n",
       "      <td>3.46</td>\n",
       "      <td>3.27</td>\n",
       "      <td>122.695</td>\n",
       "      <td>3.265993</td>\n",
       "      <td>43.215183</td>\n",
       "      <td>123.905471</td>\n",
       "    </tr>\n",
       "    <tr>\n",
       "      <th>32</th>\n",
       "      <td>TR60</td>\n",
       "      <td>Uk Gilt Treasury Stk</td>\n",
       "      <td>4.00</td>\n",
       "      <td>22-Jan-60</td>\n",
       "      <td>117.60</td>\n",
       "      <td>118.06</td>\n",
       "      <td>0.51</td>\n",
       "      <td>3.39</td>\n",
       "      <td>3.26</td>\n",
       "      <td>117.830</td>\n",
       "      <td>3.258346</td>\n",
       "      <td>47.341215</td>\n",
       "      <td>118.465141</td>\n",
       "    </tr>\n",
       "  </tbody>\n",
       "</table>\n",
       "</div>"
      ],
      "text/plain": [
       "    epic           description  coupon   maturity     bid     ask  change  \\\n",
       "0   TR13  Uk Gilt Treasury Stk    4.50  07-Mar-13  101.92  102.07   -0.01   \n",
       "1   T813  Uk Gilt Treasury Stk    8.00  27-Sep-13  107.86  107.98   -0.03   \n",
       "2   TR14  Uk Gilt Treasury Stk    2.25  07-Mar-14  102.90  103.05    0.01   \n",
       "3   T514  Uk Gilt Treasury Stk    5.00  07-Sep-14  109.28  109.43    0.02   \n",
       "4   TR15  Uk Gilt Treasury Stk    2.75  22-Jan-15  105.57  105.68    0.05   \n",
       "5    T4T  Uk Gilt Treasury Stk    4.75  07-Sep-15  112.92  113.04    0.04   \n",
       "6    TY8  Uk Gilt Treasury Stk    8.00  07-Dec-15  124.39  124.55    0.04   \n",
       "7   TS16  Uk Gilt Treasury Stk    2.00  22-Jan-16  104.92  105.04    0.07   \n",
       "8    T16  Uk Gilt Treasury Stk    4.00  07-Sep-16  113.44  113.55    0.08   \n",
       "9   TR17  Uk Gilt Treasury Stk    8.75  25-Aug-17  138.48  138.66    0.14   \n",
       "10   T18  Uk Gilt Treasury Stk    5.00  07-Mar-18  121.74  121.84    0.16   \n",
       "11   T19  Uk Gilt Treasury Stk    4.50  07-Mar-19  121.28  121.41    0.23   \n",
       "12  TR19  Uk Gilt Treasury Stk    3.75  07-Sep-19  116.50  117.13    0.26   \n",
       "13  TS20  Uk Gilt Treasury Stk    4.75  07-Mar-20  124.24  124.36    0.28   \n",
       "14  TR20  Uk Gilt Treasury Stk    3.75  07-Sep-20  117.25  117.50    0.32   \n",
       "15  TR21  Uk Gilt Treasury Stk    8.00  07-Jun-21  152.25  153.61    0.42   \n",
       "16  TY21  Uk Gilt Treasury Stk    3.75  07-Sep-21  117.62  117.77    0.38   \n",
       "17  TR22  Uk Gilt Treasury Stk    4.00  07-Mar-22  119.92  120.12    0.41   \n",
       "18  TR25  Uk Gilt Treasury Stk    5.00  07-Mar-25  131.89  132.19    0.52   \n",
       "19  TR27  Uk Gilt Treasury Stk    4.25  07-Dec-27  123.78  124.33    0.58   \n",
       "20  TR28  Uk Gilt Treasury Stk    6.00  07-Dec-28  148.21  148.26    0.68   \n",
       "21  TR30  Uk Gilt Treasury Stk    4.75  07-Dec-30  130.96  131.14    0.55   \n",
       "22  TR32  Uk Gilt Treasury Stk    4.25  07-Jun-32  122.93  123.08    0.54   \n",
       "23   T34  Uk Gilt Treasury Stk    4.50  07-Sep-34  126.09  126.18    0.58   \n",
       "24   T4Q  Uk Gilt Treasury Stk    4.25  07-Mar-36  121.46  121.71    0.53   \n",
       "25  TR38  Uk Gilt Treasury Stk    4.75  07-Dec-38  130.70  130.80    0.55   \n",
       "26   T39  Uk Gilt Treasury Stk    4.25  07-Sep-39  120.90  121.15    0.54   \n",
       "27   T40  Uk Gilt Treasury Stk    4.25  07-Dec-40  120.55  120.93    0.53   \n",
       "28   T42  Uk Gilt Treasury Stk    4.50  07-Dec-42  125.77  126.07    0.58   \n",
       "29   T46  Uk Gilt Treasury Stk    4.25  07-Dec-46  120.93  121.37    0.56   \n",
       "30   T49  Uk Gilt Treasury Stk    4.25  07-Dec-49  120.99  121.34    0.53   \n",
       "31  TR4Q  Uk Gilt Treasury Stk    4.25  07-Dec-55  122.49  122.90    0.55   \n",
       "32  TR60  Uk Gilt Treasury Stk    4.00  22-Jan-60  117.60  118.06    0.51   \n",
       "\n",
       "    income yield  gross redemption yield      mid       ytm  yearsToMaturity  \\\n",
       "0           4.41                    0.22  101.995  0.184433         0.462707   \n",
       "1           7.41                    0.23  107.920  0.231006         1.021241   \n",
       "2           2.18                    0.22  102.975  0.210937         1.462044   \n",
       "3           4.57                    0.23  109.355  0.227755         1.965820   \n",
       "4           2.60                    0.33  105.625  0.335521         2.340914   \n",
       "5           4.20                    0.35  112.980  0.346156         2.965157   \n",
       "6           6.43                    0.34  124.470  0.338913         3.214307   \n",
       "7           1.91                    0.49  104.980  0.494815         3.340251   \n",
       "8           3.52                    0.56  113.495  0.555964         3.967233   \n",
       "9           6.31                    0.77  138.570  0.764514         4.930977   \n",
       "10          4.11                    0.91  121.790  0.902512         5.462132   \n",
       "11          3.71                    1.07  121.345  1.071939         6.461469   \n",
       "12          3.21                    1.22  116.815  1.224064         6.965245   \n",
       "13          3.82                    1.32  124.300  1.320320         7.463545   \n",
       "14          3.19                    1.43  117.375  1.434375         7.967320   \n",
       "15          5.23                    1.50  152.930  1.498154         8.714770   \n",
       "16          3.19                    1.62  117.695  1.621599         8.966658   \n",
       "17          3.33                    1.70  120.020  1.700413         9.462220   \n",
       "18          3.79                    2.07  132.040  2.070033        12.462970   \n",
       "19          3.43                    2.36  124.055  2.358857        15.214570   \n",
       "20          4.05                    2.39  148.235  2.393277        16.216645   \n",
       "21          3.62                    2.60  131.050  2.599058        18.215320   \n",
       "22          3.46                    2.73  123.005  2.732741        19.715695   \n",
       "23          3.57                    2.89  126.135  2.885279        21.966258   \n",
       "24          3.50                    2.97  121.585  2.966474        23.463895   \n",
       "25          3.63                    3.04  130.750  3.039591        26.215495   \n",
       "26          3.51                    3.09  121.025  3.094527        26.965683   \n",
       "27          3.52                    3.14  120.740  3.136725        28.216908   \n",
       "28          3.57                    3.16  125.920  3.161648        30.215583   \n",
       "29          3.51                    3.22  121.150  3.224680        34.215671   \n",
       "30          3.51                    3.26  121.165  3.263405        37.216421   \n",
       "31          3.46                    3.27  122.695  3.265993        43.215183   \n",
       "32          3.39                    3.26  117.830  3.258346        47.341215   \n",
       "\n",
       "     fullPrice  \n",
       "0   102.162819  \n",
       "1   111.750074  \n",
       "2   103.060400  \n",
       "3   109.525900  \n",
       "4   106.062487  \n",
       "5   113.145503  \n",
       "6   126.755542  \n",
       "7   105.299498  \n",
       "8   113.626069  \n",
       "9   139.173949  \n",
       "10  121.979340  \n",
       "11  121.518388  \n",
       "12  116.945331  \n",
       "13  124.473163  \n",
       "14  117.497549  \n",
       "15  155.211841  \n",
       "16  117.820034  \n",
       "17  120.171122  \n",
       "18  132.225151  \n",
       "19  125.268077  \n",
       "20  149.935128  \n",
       "21  132.402229  \n",
       "22  124.213295  \n",
       "23  126.286839  \n",
       "24  121.738446  \n",
       "25  132.101396  \n",
       "26  121.170847  \n",
       "27  121.943140  \n",
       "28  127.199876  \n",
       "29  122.358399  \n",
       "30  122.370211  \n",
       "31  123.905471  \n",
       "32  118.465141  "
      ]
     },
     "execution_count": 61,
     "metadata": {},
     "output_type": "execute_result"
    }
   ],
   "source": [
    "# Looks like I just calculated the gross redemption yield \n",
    "bondDf"
   ]
  },
  {
   "cell_type": "code",
   "execution_count": 64,
   "metadata": {},
   "outputs": [
    {
     "data": {
      "text/plain": [
       "Text(0,0.5,'Yield To Maturity')"
      ]
     },
     "execution_count": 64,
     "metadata": {},
     "output_type": "execute_result"
    },
    {
     "data": {
      "image/png": "[encoded data removed]",
      "text/plain": [
       "<Figure size 864x432 with 1 Axes>"
      ]
     },
     "metadata": {},
     "output_type": "display_data"
    }
   ],
   "source": [
    "plt.figure(figsize=(12, 6))\n",
    "plt.plot(bondDf['yearsToMaturity'], bondDf['ytm'], 'o')\n",
    "plt.grid(True)\n",
    "plt.xlabel('Time to Maturity (years)')\n",
    "plt.ylabel('Yield To Maturity')"
   ]
  },
  {
   "cell_type": "code",
   "execution_count": 65,
   "metadata": {},
   "outputs": [],
   "source": [
    "def fitAndPlot(x,f,d):\n",
    "    coeffs = np.polyfit(x, f, deg=d)\n",
    "    ry = np.polyval(coeffs, x)\n",
    "    plt.figure(figsize=(12, 8))\n",
    "    plt.plot(x, f, 'o')\n",
    "    plt.plot(x, ry, 'r', label='Fit')\n",
    "    plt.legend(loc=0)\n",
    "    plt.grid(True)\n",
    "    plt.xlabel('Time to Maturity (years)')\n",
    "    plt.ylabel('Yield to Maurity')"
   ]
  },
  {
   "cell_type": "code",
   "execution_count": 69,
   "metadata": {},
   "outputs": [
    {
     "data": {
      "image/png": "[encoded data removed]",
      "text/plain": [
       "<Figure size 864x576 with 1 Axes>"
      ]
     },
     "metadata": {},
     "output_type": "display_data"
    }
   ],
   "source": [
    "# This looks nice but does not seem to capture flattening at the short end\n",
    "fitAndPlot(bondDf['yearsToMaturity'], bondDf['ytm'],4)"
   ]
  },
  {
   "cell_type": "code",
   "execution_count": 70,
   "metadata": {},
   "outputs": [],
   "source": [
    "mask = bondDf['yearsToMaturity'] < 10.0 \n",
    "bondDfShortMaturity = bondDf[mask]"
   ]
  },
  {
   "cell_type": "code",
   "execution_count": 33,
   "metadata": {},
   "outputs": [
    {
     "data": {
      "text/html": [
       "<div>\n",
       "<style scoped>\n",
       "    .dataframe tbody tr th:only-of-type {\n",
       "        vertical-align: middle;\n",
       "    }\n",
       "\n",
       "    .dataframe tbody tr th {\n",
       "        vertical-align: top;\n",
       "    }\n",
       "\n",
       "    .dataframe thead th {\n",
       "        text-align: right;\n",
       "    }\n",
       "</style>\n",
       "<table border=\"1\" class=\"dataframe\">\n",
       "  <thead>\n",
       "    <tr style=\"text-align: right;\">\n",
       "      <th></th>\n",
       "      <th>epic</th>\n",
       "      <th>description</th>\n",
       "      <th>coupon</th>\n",
       "      <th>maturity</th>\n",
       "      <th>bid</th>\n",
       "      <th>ask</th>\n",
       "      <th>change</th>\n",
       "      <th>income yield</th>\n",
       "      <th>gross redemption yield</th>\n",
       "      <th>mid</th>\n",
       "      <th>ytm</th>\n",
       "      <th>yearsToMaturity</th>\n",
       "      <th>fullPrice</th>\n",
       "    </tr>\n",
       "  </thead>\n",
       "  <tbody>\n",
       "    <tr>\n",
       "      <th>0</th>\n",
       "      <td>TR13</td>\n",
       "      <td>Uk Gilt Treasury Stk</td>\n",
       "      <td>4.50</td>\n",
       "      <td>07-Mar-13</td>\n",
       "      <td>101.92</td>\n",
       "      <td>102.07</td>\n",
       "      <td>-0.01</td>\n",
       "      <td>4.41</td>\n",
       "      <td>0.22</td>\n",
       "      <td>101.995</td>\n",
       "      <td>0.184433</td>\n",
       "      <td>0.462707</td>\n",
       "      <td>102.162819</td>\n",
       "    </tr>\n",
       "    <tr>\n",
       "      <th>1</th>\n",
       "      <td>T813</td>\n",
       "      <td>Uk Gilt Treasury Stk</td>\n",
       "      <td>8.00</td>\n",
       "      <td>27-Sep-13</td>\n",
       "      <td>107.86</td>\n",
       "      <td>107.98</td>\n",
       "      <td>-0.03</td>\n",
       "      <td>7.41</td>\n",
       "      <td>0.23</td>\n",
       "      <td>107.920</td>\n",
       "      <td>0.231006</td>\n",
       "      <td>1.021241</td>\n",
       "      <td>111.750074</td>\n",
       "    </tr>\n",
       "    <tr>\n",
       "      <th>2</th>\n",
       "      <td>TR14</td>\n",
       "      <td>Uk Gilt Treasury Stk</td>\n",
       "      <td>2.25</td>\n",
       "      <td>07-Mar-14</td>\n",
       "      <td>102.90</td>\n",
       "      <td>103.05</td>\n",
       "      <td>0.01</td>\n",
       "      <td>2.18</td>\n",
       "      <td>0.22</td>\n",
       "      <td>102.975</td>\n",
       "      <td>0.210937</td>\n",
       "      <td>1.462044</td>\n",
       "      <td>103.060400</td>\n",
       "    </tr>\n",
       "    <tr>\n",
       "      <th>3</th>\n",
       "      <td>T514</td>\n",
       "      <td>Uk Gilt Treasury Stk</td>\n",
       "      <td>5.00</td>\n",
       "      <td>07-Sep-14</td>\n",
       "      <td>109.28</td>\n",
       "      <td>109.43</td>\n",
       "      <td>0.02</td>\n",
       "      <td>4.57</td>\n",
       "      <td>0.23</td>\n",
       "      <td>109.355</td>\n",
       "      <td>0.227755</td>\n",
       "      <td>1.965820</td>\n",
       "      <td>109.525900</td>\n",
       "    </tr>\n",
       "    <tr>\n",
       "      <th>4</th>\n",
       "      <td>TR15</td>\n",
       "      <td>Uk Gilt Treasury Stk</td>\n",
       "      <td>2.75</td>\n",
       "      <td>22-Jan-15</td>\n",
       "      <td>105.57</td>\n",
       "      <td>105.68</td>\n",
       "      <td>0.05</td>\n",
       "      <td>2.60</td>\n",
       "      <td>0.33</td>\n",
       "      <td>105.625</td>\n",
       "      <td>0.335521</td>\n",
       "      <td>2.340914</td>\n",
       "      <td>106.062487</td>\n",
       "    </tr>\n",
       "    <tr>\n",
       "      <th>5</th>\n",
       "      <td>T4T</td>\n",
       "      <td>Uk Gilt Treasury Stk</td>\n",
       "      <td>4.75</td>\n",
       "      <td>07-Sep-15</td>\n",
       "      <td>112.92</td>\n",
       "      <td>113.04</td>\n",
       "      <td>0.04</td>\n",
       "      <td>4.20</td>\n",
       "      <td>0.35</td>\n",
       "      <td>112.980</td>\n",
       "      <td>0.346156</td>\n",
       "      <td>2.965157</td>\n",
       "      <td>113.145503</td>\n",
       "    </tr>\n",
       "    <tr>\n",
       "      <th>6</th>\n",
       "      <td>TY8</td>\n",
       "      <td>Uk Gilt Treasury Stk</td>\n",
       "      <td>8.00</td>\n",
       "      <td>07-Dec-15</td>\n",
       "      <td>124.39</td>\n",
       "      <td>124.55</td>\n",
       "      <td>0.04</td>\n",
       "      <td>6.43</td>\n",
       "      <td>0.34</td>\n",
       "      <td>124.470</td>\n",
       "      <td>0.338913</td>\n",
       "      <td>3.214307</td>\n",
       "      <td>126.755542</td>\n",
       "    </tr>\n",
       "    <tr>\n",
       "      <th>7</th>\n",
       "      <td>TS16</td>\n",
       "      <td>Uk Gilt Treasury Stk</td>\n",
       "      <td>2.00</td>\n",
       "      <td>22-Jan-16</td>\n",
       "      <td>104.92</td>\n",
       "      <td>105.04</td>\n",
       "      <td>0.07</td>\n",
       "      <td>1.91</td>\n",
       "      <td>0.49</td>\n",
       "      <td>104.980</td>\n",
       "      <td>0.494815</td>\n",
       "      <td>3.340251</td>\n",
       "      <td>105.299498</td>\n",
       "    </tr>\n",
       "    <tr>\n",
       "      <th>8</th>\n",
       "      <td>T16</td>\n",
       "      <td>Uk Gilt Treasury Stk</td>\n",
       "      <td>4.00</td>\n",
       "      <td>07-Sep-16</td>\n",
       "      <td>113.44</td>\n",
       "      <td>113.55</td>\n",
       "      <td>0.08</td>\n",
       "      <td>3.52</td>\n",
       "      <td>0.56</td>\n",
       "      <td>113.495</td>\n",
       "      <td>0.555964</td>\n",
       "      <td>3.967233</td>\n",
       "      <td>113.626069</td>\n",
       "    </tr>\n",
       "    <tr>\n",
       "      <th>9</th>\n",
       "      <td>TR17</td>\n",
       "      <td>Uk Gilt Treasury Stk</td>\n",
       "      <td>8.75</td>\n",
       "      <td>25-Aug-17</td>\n",
       "      <td>138.48</td>\n",
       "      <td>138.66</td>\n",
       "      <td>0.14</td>\n",
       "      <td>6.31</td>\n",
       "      <td>0.77</td>\n",
       "      <td>138.570</td>\n",
       "      <td>0.764514</td>\n",
       "      <td>4.930977</td>\n",
       "      <td>139.173949</td>\n",
       "    </tr>\n",
       "    <tr>\n",
       "      <th>10</th>\n",
       "      <td>T18</td>\n",
       "      <td>Uk Gilt Treasury Stk</td>\n",
       "      <td>5.00</td>\n",
       "      <td>07-Mar-18</td>\n",
       "      <td>121.74</td>\n",
       "      <td>121.84</td>\n",
       "      <td>0.16</td>\n",
       "      <td>4.11</td>\n",
       "      <td>0.91</td>\n",
       "      <td>121.790</td>\n",
       "      <td>0.902512</td>\n",
       "      <td>5.462132</td>\n",
       "      <td>121.979340</td>\n",
       "    </tr>\n",
       "    <tr>\n",
       "      <th>11</th>\n",
       "      <td>T19</td>\n",
       "      <td>Uk Gilt Treasury Stk</td>\n",
       "      <td>4.50</td>\n",
       "      <td>07-Mar-19</td>\n",
       "      <td>121.28</td>\n",
       "      <td>121.41</td>\n",
       "      <td>0.23</td>\n",
       "      <td>3.71</td>\n",
       "      <td>1.07</td>\n",
       "      <td>121.345</td>\n",
       "      <td>1.071939</td>\n",
       "      <td>6.461469</td>\n",
       "      <td>121.518388</td>\n",
       "    </tr>\n",
       "    <tr>\n",
       "      <th>12</th>\n",
       "      <td>TR19</td>\n",
       "      <td>Uk Gilt Treasury Stk</td>\n",
       "      <td>3.75</td>\n",
       "      <td>07-Sep-19</td>\n",
       "      <td>116.50</td>\n",
       "      <td>117.13</td>\n",
       "      <td>0.26</td>\n",
       "      <td>3.21</td>\n",
       "      <td>1.22</td>\n",
       "      <td>116.815</td>\n",
       "      <td>1.224064</td>\n",
       "      <td>6.965245</td>\n",
       "      <td>116.945331</td>\n",
       "    </tr>\n",
       "    <tr>\n",
       "      <th>13</th>\n",
       "      <td>TS20</td>\n",
       "      <td>Uk Gilt Treasury Stk</td>\n",
       "      <td>4.75</td>\n",
       "      <td>07-Mar-20</td>\n",
       "      <td>124.24</td>\n",
       "      <td>124.36</td>\n",
       "      <td>0.28</td>\n",
       "      <td>3.82</td>\n",
       "      <td>1.32</td>\n",
       "      <td>124.300</td>\n",
       "      <td>1.320320</td>\n",
       "      <td>7.463545</td>\n",
       "      <td>124.473163</td>\n",
       "    </tr>\n",
       "    <tr>\n",
       "      <th>14</th>\n",
       "      <td>TR20</td>\n",
       "      <td>Uk Gilt Treasury Stk</td>\n",
       "      <td>3.75</td>\n",
       "      <td>07-Sep-20</td>\n",
       "      <td>117.25</td>\n",
       "      <td>117.50</td>\n",
       "      <td>0.32</td>\n",
       "      <td>3.19</td>\n",
       "      <td>1.43</td>\n",
       "      <td>117.375</td>\n",
       "      <td>1.434375</td>\n",
       "      <td>7.967320</td>\n",
       "      <td>117.497549</td>\n",
       "    </tr>\n",
       "    <tr>\n",
       "      <th>15</th>\n",
       "      <td>TR21</td>\n",
       "      <td>Uk Gilt Treasury Stk</td>\n",
       "      <td>8.00</td>\n",
       "      <td>07-Jun-21</td>\n",
       "      <td>152.25</td>\n",
       "      <td>153.61</td>\n",
       "      <td>0.42</td>\n",
       "      <td>5.23</td>\n",
       "      <td>1.50</td>\n",
       "      <td>152.930</td>\n",
       "      <td>1.498154</td>\n",
       "      <td>8.714770</td>\n",
       "      <td>155.211841</td>\n",
       "    </tr>\n",
       "    <tr>\n",
       "      <th>16</th>\n",
       "      <td>TY21</td>\n",
       "      <td>Uk Gilt Treasury Stk</td>\n",
       "      <td>3.75</td>\n",
       "      <td>07-Sep-21</td>\n",
       "      <td>117.62</td>\n",
       "      <td>117.77</td>\n",
       "      <td>0.38</td>\n",
       "      <td>3.19</td>\n",
       "      <td>1.62</td>\n",
       "      <td>117.695</td>\n",
       "      <td>1.621599</td>\n",
       "      <td>8.966658</td>\n",
       "      <td>117.820034</td>\n",
       "    </tr>\n",
       "    <tr>\n",
       "      <th>17</th>\n",
       "      <td>TR22</td>\n",
       "      <td>Uk Gilt Treasury Stk</td>\n",
       "      <td>4.00</td>\n",
       "      <td>07-Mar-22</td>\n",
       "      <td>119.92</td>\n",
       "      <td>120.12</td>\n",
       "      <td>0.41</td>\n",
       "      <td>3.33</td>\n",
       "      <td>1.70</td>\n",
       "      <td>120.020</td>\n",
       "      <td>1.700413</td>\n",
       "      <td>9.462220</td>\n",
       "      <td>120.171122</td>\n",
       "    </tr>\n",
       "  </tbody>\n",
       "</table>\n",
       "</div>"
      ],
      "text/plain": [
       "    epic           description  coupon   maturity     bid     ask  change  \\\n",
       "0   TR13  Uk Gilt Treasury Stk    4.50  07-Mar-13  101.92  102.07   -0.01   \n",
       "1   T813  Uk Gilt Treasury Stk    8.00  27-Sep-13  107.86  107.98   -0.03   \n",
       "2   TR14  Uk Gilt Treasury Stk    2.25  07-Mar-14  102.90  103.05    0.01   \n",
       "3   T514  Uk Gilt Treasury Stk    5.00  07-Sep-14  109.28  109.43    0.02   \n",
       "4   TR15  Uk Gilt Treasury Stk    2.75  22-Jan-15  105.57  105.68    0.05   \n",
       "5    T4T  Uk Gilt Treasury Stk    4.75  07-Sep-15  112.92  113.04    0.04   \n",
       "6    TY8  Uk Gilt Treasury Stk    8.00  07-Dec-15  124.39  124.55    0.04   \n",
       "7   TS16  Uk Gilt Treasury Stk    2.00  22-Jan-16  104.92  105.04    0.07   \n",
       "8    T16  Uk Gilt Treasury Stk    4.00  07-Sep-16  113.44  113.55    0.08   \n",
       "9   TR17  Uk Gilt Treasury Stk    8.75  25-Aug-17  138.48  138.66    0.14   \n",
       "10   T18  Uk Gilt Treasury Stk    5.00  07-Mar-18  121.74  121.84    0.16   \n",
       "11   T19  Uk Gilt Treasury Stk    4.50  07-Mar-19  121.28  121.41    0.23   \n",
       "12  TR19  Uk Gilt Treasury Stk    3.75  07-Sep-19  116.50  117.13    0.26   \n",
       "13  TS20  Uk Gilt Treasury Stk    4.75  07-Mar-20  124.24  124.36    0.28   \n",
       "14  TR20  Uk Gilt Treasury Stk    3.75  07-Sep-20  117.25  117.50    0.32   \n",
       "15  TR21  Uk Gilt Treasury Stk    8.00  07-Jun-21  152.25  153.61    0.42   \n",
       "16  TY21  Uk Gilt Treasury Stk    3.75  07-Sep-21  117.62  117.77    0.38   \n",
       "17  TR22  Uk Gilt Treasury Stk    4.00  07-Mar-22  119.92  120.12    0.41   \n",
       "\n",
       "    income yield  gross redemption yield      mid       ytm  yearsToMaturity  \\\n",
       "0           4.41                    0.22  101.995  0.184433         0.462707   \n",
       "1           7.41                    0.23  107.920  0.231006         1.021241   \n",
       "2           2.18                    0.22  102.975  0.210937         1.462044   \n",
       "3           4.57                    0.23  109.355  0.227755         1.965820   \n",
       "4           2.60                    0.33  105.625  0.335521         2.340914   \n",
       "5           4.20                    0.35  112.980  0.346156         2.965157   \n",
       "6           6.43                    0.34  124.470  0.338913         3.214307   \n",
       "7           1.91                    0.49  104.980  0.494815         3.340251   \n",
       "8           3.52                    0.56  113.495  0.555964         3.967233   \n",
       "9           6.31                    0.77  138.570  0.764514         4.930977   \n",
       "10          4.11                    0.91  121.790  0.902512         5.462132   \n",
       "11          3.71                    1.07  121.345  1.071939         6.461469   \n",
       "12          3.21                    1.22  116.815  1.224064         6.965245   \n",
       "13          3.82                    1.32  124.300  1.320320         7.463545   \n",
       "14          3.19                    1.43  117.375  1.434375         7.967320   \n",
       "15          5.23                    1.50  152.930  1.498154         8.714770   \n",
       "16          3.19                    1.62  117.695  1.621599         8.966658   \n",
       "17          3.33                    1.70  120.020  1.700413         9.462220   \n",
       "\n",
       "     fullPrice  \n",
       "0   102.162819  \n",
       "1   111.750074  \n",
       "2   103.060400  \n",
       "3   109.525900  \n",
       "4   106.062487  \n",
       "5   113.145503  \n",
       "6   126.755542  \n",
       "7   105.299498  \n",
       "8   113.626069  \n",
       "9   139.173949  \n",
       "10  121.979340  \n",
       "11  121.518388  \n",
       "12  116.945331  \n",
       "13  124.473163  \n",
       "14  117.497549  \n",
       "15  155.211841  \n",
       "16  117.820034  \n",
       "17  120.171122  "
      ]
     },
     "execution_count": 33,
     "metadata": {},
     "output_type": "execute_result"
    }
   ],
   "source": [
    "bondDfShortMaturity"
   ]
  },
  {
   "cell_type": "code",
   "execution_count": 34,
   "metadata": {},
   "outputs": [
    {
     "data": {
      "image/png": "[encoded data removed]",
      "text/plain": [
       "<Figure size 864x576 with 1 Axes>"
      ]
     },
     "metadata": {},
     "output_type": "display_data"
    }
   ],
   "source": [
    "# With 3rd order we can fit just the short end but then we cannot do the long end too\n",
    "fitAndPlot(bondDfShortMaturity['yearsToMaturity'], bondDfShortMaturity['ytm'],3)"
   ]
  },
  {
   "cell_type": "code",
   "execution_count": 35,
   "metadata": {},
   "outputs": [
    {
     "data": {
      "image/png": "[encoded data removed]",
      "text/plain": [
       "<Figure size 864x576 with 1 Axes>"
      ]
     },
     "metadata": {},
     "output_type": "display_data"
    }
   ],
   "source": [
    "# This looks better but it does have seven coefficients !\n",
    "fitAndPlot(bondDf['yearsToMaturity'], bondDf['ytm'],7)"
   ]
  },
  {
   "cell_type": "markdown",
   "metadata": {},
   "source": [
    "## Nelson-Siegel Parametrisation"
   ]
  },
  {
   "cell_type": "markdown",
   "metadata": {},
   "source": [
    "We can go beyond the simple yield to maturity framework using a parametric zero rate model"
   ]
  },
  {
   "cell_type": "code",
   "execution_count": 71,
   "metadata": {},
   "outputs": [],
   "source": [
    "def zeroRate(t, beta0, beta1, beta2, tau = 1.0):\n",
    "    # Make the time small if it is zero to avoid overflow errors\n",
    "    t = np.maximum(t,1e-6)\n",
    "    ratio = t/float(tau)\n",
    "    coeff1 = (1.0-np.exp(-ratio))/(ratio)\n",
    "    coeff2 = coeff1 - np.exp(-ratio)\n",
    "    zero = beta0 + beta1 * coeff1 + beta2 * coeff2\n",
    "    return zero"
   ]
  },
  {
   "cell_type": "code",
   "execution_count": 72,
   "metadata": {},
   "outputs": [],
   "source": [
    "t = np.linspace(0.1,30,100)"
   ]
  },
  {
   "cell_type": "code",
   "execution_count": 73,
   "metadata": {},
   "outputs": [],
   "source": [
    "tau = 3.0\n",
    "beta0 = 0.05 # Long rate\n",
    "beta1 = 0.02 # Short plus long rate\n",
    "beta2 = 0.1 # Short-long end transition "
   ]
  },
  {
   "cell_type": "code",
   "execution_count": 74,
   "metadata": {},
   "outputs": [
    {
     "data": {
      "image/png": "[encoded data removed]",
      "text/plain": [
       "<Figure size 720x432 with 1 Axes>"
      ]
     },
     "metadata": {},
     "output_type": "display_data"
    }
   ],
   "source": [
    "plt.figure(figsize=(10, 6))\n",
    "plt.plot(t, zeroRate(t, beta0, beta1, beta2, tau), 'b')\n",
    "plt.grid(True)\n",
    "plt.xlabel('Time (years)')\n",
    "plt.ylabel('Zero Rate')\n",
    "plt.ylim(0.05,0.10);"
   ]
  },
  {
   "cell_type": "code",
   "execution_count": 80,
   "metadata": {},
   "outputs": [],
   "source": [
    "def zeroCouponBondNS(t, beta0, beta1, beta2, tau ):\n",
    "    r = zeroRate(t, beta0, beta1, beta2, tau)\n",
    "    zcb = np.exp(-r*t)\n",
    "    return zcb"
   ]
  },
  {
   "cell_type": "code",
   "execution_count": 81,
   "metadata": {},
   "outputs": [],
   "source": [
    "def bondFullPriceNS(maturity, coupon, frequency, beta0, beta1, beta2, tau):\n",
    "    paymentTimes = flowTimes(maturity,frequency)    \n",
    "    price = 0.0\n",
    "\n",
    "    for t in paymentTimes:\n",
    "        zcb = zeroCouponBondNS(t, beta0, beta1, beta2, tau)\n",
    "        price += (coupon/frequency) * zcb \n",
    "    \n",
    "    price += zcb # par     \n",
    "    return price"
   ]
  },
  {
   "cell_type": "markdown",
   "metadata": {},
   "source": [
    "## Fitting Nelson-Siegel to Bond Prices"
   ]
  },
  {
   "cell_type": "markdown",
   "metadata": {},
   "source": [
    "Take in some prices and then fit them"
   ]
  },
  {
   "cell_type": "code",
   "execution_count": 82,
   "metadata": {},
   "outputs": [],
   "source": [
    "def objFunc(x):\n",
    "    beta0 = x[0] \n",
    "    beta1 = x[1] \n",
    "    beta2 = x[2] \n",
    "    tau = 3.0\n",
    "    cumError = 0.0    \n",
    "    for index, bond in bondDf.iterrows():\n",
    "        maturity = bond['yearsToMaturity']\n",
    "        coupon = bond['coupon'] / 100.0\n",
    "        frequency = 2\n",
    "        price = bond['fullPrice'] / 100.0        \n",
    "        modelPrice = bondFullPriceNS(maturity, coupon, frequency, beta0, beta1, beta2, tau)\n",
    "        error = (price - modelPrice) \n",
    "        cumError += error**2    \n",
    "    return cumError"
   ]
  },
  {
   "cell_type": "code",
   "execution_count": 83,
   "metadata": {},
   "outputs": [],
   "source": [
    "import scipy.optimize as spo"
   ]
  },
  {
   "cell_type": "code",
   "execution_count": 84,
   "metadata": {},
   "outputs": [],
   "source": [
    "# The options depend on the choice of method\n",
    "beta0 = 0.01\n",
    "beta1 = 0.01\n",
    "beta2 = 0.01\n",
    "initial = [beta0,beta1,beta2]\n",
    "\n",
    "method = 'Nelder-Mead'\n",
    "#method = 'Powell'\n",
    "#method = 'CG'\n",
    "tol=1e-10\n",
    "\n",
    "output = spo.minimize(objFunc,initial,method = method, options = {'fatol':1e-8, 'xatol':1e-8 });"
   ]
  },
  {
   "cell_type": "code",
   "execution_count": 85,
   "metadata": {},
   "outputs": [
    {
     "data": {
      "text/plain": [
       "'Optimization terminated successfully.'"
      ]
     },
     "execution_count": 85,
     "metadata": {},
     "output_type": "execute_result"
    }
   ],
   "source": [
    "output.message"
   ]
  },
  {
   "cell_type": "code",
   "execution_count": 86,
   "metadata": {},
   "outputs": [
    {
     "data": {
      "text/plain": [
       "0.002087211036191195"
      ]
     },
     "execution_count": 86,
     "metadata": {},
     "output_type": "execute_result"
    }
   ],
   "source": [
    "objFunc(output.x)"
   ]
  },
  {
   "cell_type": "code",
   "execution_count": 87,
   "metadata": {},
   "outputs": [
    {
     "data": {
      "text/plain": [
       "array([ 0.04421811, -0.04373962, -0.04889052])"
      ]
     },
     "execution_count": 87,
     "metadata": {},
     "output_type": "execute_result"
    }
   ],
   "source": [
    "betaVector = output['x']\n",
    "betaVector"
   ]
  },
  {
   "cell_type": "code",
   "execution_count": 91,
   "metadata": {},
   "outputs": [
    {
     "data": {
      "text/plain": [
       "Text(0,0.5,'Zero Rate')"
      ]
     },
     "execution_count": 91,
     "metadata": {},
     "output_type": "execute_result"
    },
    {
     "data": {
      "image/png": "[encoded data removed]",
      "text/plain": [
       "<Figure size 720x432 with 1 Axes>"
      ]
     },
     "metadata": {},
     "output_type": "display_data"
    }
   ],
   "source": [
    "# We see that with 3 coefficients we get the short and long end shape\n",
    "plt.figure(figsize=(10, 6))\n",
    "plt.plot(t, zeroRate(t, betaVector[0], betaVector[1], betaVector[2], tau), 'b')\n",
    "#plt.plot(bondDf['yearsToMaturity'], bondDf['ytm'], 'o')\n",
    "plt.grid(True)\n",
    "plt.xlabel('Time (years)')\n",
    "plt.ylabel('Zero Rate')\n"
   ]
  },
  {
   "cell_type": "markdown",
   "metadata": {
    "collapsed": true
   },
   "source": [
    "### Mapping this back to the yield curve"
   ]
  },
  {
   "cell_type": "code",
   "execution_count": 92,
   "metadata": {},
   "outputs": [],
   "source": [
    "modelPrices = []\n",
    "\n",
    "for index, bond in bondDf.iterrows():\n",
    "    maturity = bond['yearsToMaturity']\n",
    "    coupon = bond['coupon'] / 100.0\n",
    "    frequency = 2\n",
    "    fullPrice = bond['fullPrice'] / 100.0        \n",
    "    modelPrice = bondFullPriceNS(maturity, coupon, frequency, betaVector[0], betaVector[1], betaVector[2], tau)\n",
    "    modelPrices.append(modelPrice*100)"
   ]
  },
  {
   "cell_type": "code",
   "execution_count": 93,
   "metadata": {},
   "outputs": [],
   "source": [
    "bondDf['NSPrice'] = modelPrices"
   ]
  },
  {
   "cell_type": "code",
   "execution_count": 94,
   "metadata": {},
   "outputs": [
    {
     "data": {
      "text/html": [
       "<div>\n",
       "<style scoped>\n",
       "    .dataframe tbody tr th:only-of-type {\n",
       "        vertical-align: middle;\n",
       "    }\n",
       "\n",
       "    .dataframe tbody tr th {\n",
       "        vertical-align: top;\n",
       "    }\n",
       "\n",
       "    .dataframe thead th {\n",
       "        text-align: right;\n",
       "    }\n",
       "</style>\n",
       "<table border=\"1\" class=\"dataframe\">\n",
       "  <thead>\n",
       "    <tr style=\"text-align: right;\">\n",
       "      <th></th>\n",
       "      <th>epic</th>\n",
       "      <th>description</th>\n",
       "      <th>coupon</th>\n",
       "      <th>maturity</th>\n",
       "      <th>bid</th>\n",
       "      <th>ask</th>\n",
       "      <th>change</th>\n",
       "      <th>income yield</th>\n",
       "      <th>gross redemption yield</th>\n",
       "      <th>mid</th>\n",
       "      <th>ytm</th>\n",
       "      <th>yearsToMaturity</th>\n",
       "      <th>fullPrice</th>\n",
       "      <th>NSPrice</th>\n",
       "    </tr>\n",
       "  </thead>\n",
       "  <tbody>\n",
       "    <tr>\n",
       "      <th>0</th>\n",
       "      <td>TR13</td>\n",
       "      <td>Uk Gilt Treasury Stk</td>\n",
       "      <td>4.50</td>\n",
       "      <td>07-Mar-13</td>\n",
       "      <td>101.92</td>\n",
       "      <td>102.07</td>\n",
       "      <td>-0.01</td>\n",
       "      <td>4.41</td>\n",
       "      <td>0.22</td>\n",
       "      <td>101.995</td>\n",
       "      <td>0.184433</td>\n",
       "      <td>0.462707</td>\n",
       "      <td>102.162819</td>\n",
       "      <td>102.236731</td>\n",
       "    </tr>\n",
       "    <tr>\n",
       "      <th>1</th>\n",
       "      <td>T813</td>\n",
       "      <td>Uk Gilt Treasury Stk</td>\n",
       "      <td>8.00</td>\n",
       "      <td>27-Sep-13</td>\n",
       "      <td>107.86</td>\n",
       "      <td>107.98</td>\n",
       "      <td>-0.03</td>\n",
       "      <td>7.41</td>\n",
       "      <td>0.23</td>\n",
       "      <td>107.920</td>\n",
       "      <td>0.231006</td>\n",
       "      <td>1.021241</td>\n",
       "      <td>111.750074</td>\n",
       "      <td>111.947121</td>\n",
       "    </tr>\n",
       "    <tr>\n",
       "      <th>2</th>\n",
       "      <td>TR14</td>\n",
       "      <td>Uk Gilt Treasury Stk</td>\n",
       "      <td>2.25</td>\n",
       "      <td>07-Mar-14</td>\n",
       "      <td>102.90</td>\n",
       "      <td>103.05</td>\n",
       "      <td>0.01</td>\n",
       "      <td>2.18</td>\n",
       "      <td>0.22</td>\n",
       "      <td>102.975</td>\n",
       "      <td>0.210937</td>\n",
       "      <td>1.462044</td>\n",
       "      <td>103.060400</td>\n",
       "      <td>103.236894</td>\n",
       "    </tr>\n",
       "    <tr>\n",
       "      <th>3</th>\n",
       "      <td>T514</td>\n",
       "      <td>Uk Gilt Treasury Stk</td>\n",
       "      <td>5.00</td>\n",
       "      <td>07-Sep-14</td>\n",
       "      <td>109.28</td>\n",
       "      <td>109.43</td>\n",
       "      <td>0.02</td>\n",
       "      <td>4.57</td>\n",
       "      <td>0.23</td>\n",
       "      <td>109.355</td>\n",
       "      <td>0.227755</td>\n",
       "      <td>1.965820</td>\n",
       "      <td>109.525900</td>\n",
       "      <td>109.662281</td>\n",
       "    </tr>\n",
       "    <tr>\n",
       "      <th>4</th>\n",
       "      <td>TR15</td>\n",
       "      <td>Uk Gilt Treasury Stk</td>\n",
       "      <td>2.75</td>\n",
       "      <td>22-Jan-15</td>\n",
       "      <td>105.57</td>\n",
       "      <td>105.68</td>\n",
       "      <td>0.05</td>\n",
       "      <td>2.60</td>\n",
       "      <td>0.33</td>\n",
       "      <td>105.625</td>\n",
       "      <td>0.335521</td>\n",
       "      <td>2.340914</td>\n",
       "      <td>106.062487</td>\n",
       "      <td>106.321716</td>\n",
       "    </tr>\n",
       "  </tbody>\n",
       "</table>\n",
       "</div>"
      ],
      "text/plain": [
       "   epic           description  coupon   maturity     bid     ask  change  \\\n",
       "0  TR13  Uk Gilt Treasury Stk    4.50  07-Mar-13  101.92  102.07   -0.01   \n",
       "1  T813  Uk Gilt Treasury Stk    8.00  27-Sep-13  107.86  107.98   -0.03   \n",
       "2  TR14  Uk Gilt Treasury Stk    2.25  07-Mar-14  102.90  103.05    0.01   \n",
       "3  T514  Uk Gilt Treasury Stk    5.00  07-Sep-14  109.28  109.43    0.02   \n",
       "4  TR15  Uk Gilt Treasury Stk    2.75  22-Jan-15  105.57  105.68    0.05   \n",
       "\n",
       "   income yield  gross redemption yield      mid       ytm  yearsToMaturity  \\\n",
       "0          4.41                    0.22  101.995  0.184433         0.462707   \n",
       "1          7.41                    0.23  107.920  0.231006         1.021241   \n",
       "2          2.18                    0.22  102.975  0.210937         1.462044   \n",
       "3          4.57                    0.23  109.355  0.227755         1.965820   \n",
       "4          2.60                    0.33  105.625  0.335521         2.340914   \n",
       "\n",
       "    fullPrice     NSPrice  \n",
       "0  102.162819  102.236731  \n",
       "1  111.750074  111.947121  \n",
       "2  103.060400  103.236894  \n",
       "3  109.525900  109.662281  \n",
       "4  106.062487  106.321716  "
      ]
     },
     "execution_count": 94,
     "metadata": {},
     "output_type": "execute_result"
    }
   ],
   "source": [
    "bondDf.head()"
   ]
  },
  {
   "cell_type": "code",
   "execution_count": 95,
   "metadata": {},
   "outputs": [],
   "source": [
    "nelsonSiegelYields = []\n",
    "\n",
    "for index, bond in bondDf.iterrows():\n",
    "    yearsToMaturity = bond['yearsToMaturity']\n",
    "    coupon = bond['coupon'] / 100.0\n",
    "    frequency = 2\n",
    "    fullPrice = bond['fullPrice'] / 100.0        \n",
    "    modelPrice = bond['NSPrice'] / 100.0\n",
    "    nelsonSiegelYield = bondFullPriceToYield(modelPrice, yearsToMaturity, coupon, frequency)    \n",
    "    nelsonSiegelYields.append(nelsonSiegelYield*100.0)    "
   ]
  },
  {
   "cell_type": "code",
   "execution_count": 96,
   "metadata": {},
   "outputs": [
    {
     "data": {
      "text/plain": [
       "<matplotlib.legend.Legend at 0x2308b926470>"
      ]
     },
     "execution_count": 96,
     "metadata": {},
     "output_type": "execute_result"
    },
    {
     "data": {
      "image/png": "[encoded data removed]",
      "text/plain": [
       "<Figure size 864x432 with 1 Axes>"
      ]
     },
     "metadata": {},
     "output_type": "display_data"
    }
   ],
   "source": [
    "plt.figure(figsize=(12, 6))\n",
    "plt.plot(bondDf['yearsToMaturity'], bondDf['ytm'], 'o',label='Market YTMs')\n",
    "plt.plot(bondDf['yearsToMaturity'], nelsonSiegelYields, 'o-',label='NS Fitted Yields')\n",
    "plt.grid(True)\n",
    "plt.xlabel('Time to Maturity (years)')\n",
    "plt.ylabel('Yield To Maturity')\n",
    "plt.legend()"
   ]
  },
  {
   "cell_type": "markdown",
   "metadata": {},
   "source": [
    "Can you do better with the Nelson-Siegel Svensson Model ?"
   ]
  },
  {
   "cell_type": "code",
   "execution_count": null,
   "metadata": {
    "collapsed": true
   },
   "outputs": [],
   "source": []
  }
 ],
 "metadata": {
  "kernelspec": {
   "display_name": "Python 3",
   "language": "python",
   "name": "python3"
  },
  "language_info": {
   "codemirror_mode": {
    "name": "ipython",
    "version": 3
   },
   "file_extension": ".py",
   "mimetype": "text/x-python",
   "name": "python",
   "nbconvert_exporter": "python",
   "pygments_lexer": "ipython3",
   "version": "3.6.5"
  }
 },
 "nbformat": 4,
 "nbformat_minor": 2
}
