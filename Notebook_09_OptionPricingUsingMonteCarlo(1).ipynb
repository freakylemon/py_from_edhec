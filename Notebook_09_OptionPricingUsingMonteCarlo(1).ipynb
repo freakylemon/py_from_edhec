{
 "cells": [
  {
   "cell_type": "markdown",
   "metadata": {},
   "source": [
    "# Option Pricing using Monte Carlo Methods"
   ]
  },
  {
   "cell_type": "markdown",
   "metadata": {},
   "source": [
    "We want our code to run quickly. An example is Monte Carlo. We explore ways to make the code as fast as possible."
   ]
  },
  {
   "cell_type": "markdown",
   "metadata": {},
   "source": [
    "## Analytical Formula"
   ]
  },
  {
   "cell_type": "code",
   "execution_count": 21,
   "metadata": {},
   "outputs": [],
   "source": [
    "from math import log, exp, sqrt\n",
    "from scipy import stats\n",
    "\n",
    "def priceCallOptionAnalytical(S0,K,T,r,sigma):\n",
    "    d1 = (log(S0/K) + (r + 0.5*sigma*sigma)*T) /sigma*sqrt(T)\n",
    "    d2 = (log(S0/K) + (r - 0.5*sigma*sigma)*T) /sigma*sqrt(T)    \n",
    "    value = S0 * stats.norm.cdf(d1,0.0,1.0) - K * exp(-r*T) * stats.norm.cdf(d2,0.0,1.0)\n",
    "    return value"
   ]
  },
  {
   "cell_type": "code",
   "execution_count": 22,
   "metadata": {},
   "outputs": [],
   "source": [
    "S0 = 100.0\n",
    "K = 105.0\n",
    "T = 1.0\n",
    "r = 0.05\n",
    "sigma = 0.2"
   ]
  },
  {
   "cell_type": "code",
   "execution_count": 23,
   "metadata": {},
   "outputs": [
    {
     "data": {
      "text/plain": [
       "8.021352235143176"
      ]
     },
     "execution_count": 23,
     "metadata": {},
     "output_type": "execute_result"
    }
   ],
   "source": [
    "priceCallOptionAnalytical(S0,K,T,r,sigma)"
   ]
  },
  {
   "cell_type": "code",
   "execution_count": 24,
   "metadata": {},
   "outputs": [
    {
     "name": "stdout",
     "output_type": "stream",
     "text": [
      "232 µs ± 6.18 µs per loop (mean ± std. dev. of 7 runs, 1000 loops each)\n"
     ]
    }
   ],
   "source": [
    "%timeit priceCallOptionAnalytical(S0,K,T,r,sigma)"
   ]
  },
  {
   "cell_type": "markdown",
   "metadata": {},
   "source": [
    "## Monte Carlo Valuation in Basic Python"
   ]
  },
  {
   "cell_type": "code",
   "execution_count": 25,
   "metadata": {},
   "outputs": [],
   "source": [
    "numPaths = 100000"
   ]
  },
  {
   "cell_type": "code",
   "execution_count": 26,
   "metadata": {},
   "outputs": [],
   "source": [
    "# Pure python code valuing a call option\n",
    "import random\n",
    "\n",
    "def priceCallOptionMC(S0,K,T,r,sigma,numPaths):\n",
    "    payOff = 0.0\n",
    "    for i in range(0,numPaths):\n",
    "        z = random.gauss(0.0,1.0)\n",
    "        S = S0 * exp((r-sigma*sigma/2.0) * T + sigma * sqrt(T) * z)        \n",
    "        payOff += max(0,S-K)\n",
    "    value = payOff * exp(-r*T) / numPaths\n",
    "    return value"
   ]
  },
  {
   "cell_type": "code",
   "execution_count": 27,
   "metadata": {},
   "outputs": [
    {
     "data": {
      "text/plain": [
       "8.013892014566942"
      ]
     },
     "execution_count": 27,
     "metadata": {},
     "output_type": "execute_result"
    }
   ],
   "source": [
    "priceCallOptionMC(S0,K,T,r,sigma,numPaths)"
   ]
  },
  {
   "cell_type": "code",
   "execution_count": 28,
   "metadata": {},
   "outputs": [
    {
     "name": "stdout",
     "output_type": "stream",
     "text": [
      "255 ms ± 24.1 ms per loop (mean ± std. dev. of 7 runs, 1 loop each)\n"
     ]
    }
   ],
   "source": [
    "%timeit priceCallOptionMC(S0,K,T,r,sigma,numPaths)"
   ]
  },
  {
   "cell_type": "markdown",
   "metadata": {},
   "source": [
    "## Monte Carlo Valuation in Numpy\n",
    "When the function can be vectorised then Numpy can speed things up a lot"
   ]
  },
  {
   "cell_type": "code",
   "execution_count": 29,
   "metadata": {},
   "outputs": [],
   "source": [
    "import numpy as np\n",
    "\n",
    "def priceCallOptionMC_Numpy(S0,K,T,r,sigma,numPaths):\n",
    "    z = np.random.normal(size=numPaths,loc=0.0,scale=1.0) \n",
    "    S = S0 * np.exp((r-sigma*sigma/2.0) * T + sigma * sqrt(T) * z)\n",
    "    payoff = np.maximum(S-K,0)\n",
    "    value = np.sum(payoff)/numPaths * np.exp(-r*T)     \n",
    "    return value"
   ]
  },
  {
   "cell_type": "code",
   "execution_count": 30,
   "metadata": {},
   "outputs": [
    {
     "data": {
      "text/plain": [
       "7.995953234286477"
      ]
     },
     "execution_count": 30,
     "metadata": {},
     "output_type": "execute_result"
    }
   ],
   "source": [
    "priceCallOptionMC_Numpy(S0,K,T,r,sigma,numPaths)"
   ]
  },
  {
   "cell_type": "code",
   "execution_count": 31,
   "metadata": {},
   "outputs": [
    {
     "name": "stdout",
     "output_type": "stream",
     "text": [
      "11.6 ms ± 186 µs per loop (mean ± std. dev. of 7 runs, 100 loops each)\n"
     ]
    }
   ],
   "source": [
    "%timeit priceCallOptionMC_Numpy(S0,K,T,r,sigma,numPaths)"
   ]
  },
  {
   "cell_type": "markdown",
   "metadata": {},
   "source": [
    "But Numpy has a lognormal function"
   ]
  },
  {
   "cell_type": "code",
   "execution_count": 45,
   "metadata": {},
   "outputs": [],
   "source": [
    "def priceCallOptionMC_Numpy_LN(S0,K,T,r,sigma,numPaths):\n",
    "    S = S0 * np.random.lognormal((r-sigma*sigma/2.0) * T,sigma * sqrt(T), size=numPaths)\n",
    "    payoff = np.maximum(S-K,0)\n",
    "    value = np.sum(payoff)/numPaths * np.exp(-r*T)     \n",
    "    return value"
   ]
  },
  {
   "cell_type": "code",
   "execution_count": 46,
   "metadata": {},
   "outputs": [
    {
     "data": {
      "text/plain": [
       "8.002959319116568"
      ]
     },
     "execution_count": 46,
     "metadata": {},
     "output_type": "execute_result"
    }
   ],
   "source": [
    "priceCallOptionMC_Numpy_LN(S0,K,T,r,sigma,numPaths)"
   ]
  },
  {
   "cell_type": "code",
   "execution_count": 47,
   "metadata": {},
   "outputs": [
    {
     "name": "stdout",
     "output_type": "stream",
     "text": [
      "133 ms ± 1.45 ms per loop (mean ± std. dev. of 7 runs, 10 loops each)\n"
     ]
    }
   ],
   "source": [
    "%timeit priceCallOptionMC_Numpy_LN(S0,K,T,r,sigma,numPaths)"
   ]
  },
  {
   "cell_type": "markdown",
   "metadata": {},
   "source": [
    "## Monte Carlo Valuation in Numba\n",
    "Use the JIT compiler"
   ]
  },
  {
   "cell_type": "code",
   "execution_count": 48,
   "metadata": {},
   "outputs": [],
   "source": [
    "from numba import jit\n",
    "\n",
    "@jit \n",
    "\n",
    "def priceCallOptionMC_Numba(S0,K,T,r,sigma,numPaths):\n",
    "    payOff = 0.0\n",
    "    for i in range(0,numPaths):\n",
    "        z = random.gauss(0.0,1.0)\n",
    "        S = S0 * exp((r-sigma*sigma/2.0) * T + sigma * sqrt(T) * z)        \n",
    "        payOff += max(0,S-K)\n",
    "    value = payOff * exp(-r*T) / numPaths\n",
    "    return value"
   ]
  },
  {
   "cell_type": "code",
   "execution_count": 49,
   "metadata": {},
   "outputs": [
    {
     "data": {
      "text/plain": [
       "8.025172534523678"
      ]
     },
     "execution_count": 49,
     "metadata": {},
     "output_type": "execute_result"
    }
   ],
   "source": [
    "priceCallOptionMC_Numba(S0,K,T,r,sigma,numPaths)"
   ]
  },
  {
   "cell_type": "code",
   "execution_count": 50,
   "metadata": {},
   "outputs": [
    {
     "name": "stdout",
     "output_type": "stream",
     "text": [
      "79.1 ms ± 2.42 ms per loop (mean ± std. dev. of 7 runs, 10 loops each)\n"
     ]
    }
   ],
   "source": [
    "%timeit priceCallOptionMC_Numba(S0,K,T,r,sigma,numPaths)"
   ]
  },
  {
   "cell_type": "markdown",
   "metadata": {
    "collapsed": true
   },
   "source": [
    "## Convergence Analysis"
   ]
  },
  {
   "cell_type": "code",
   "execution_count": 51,
   "metadata": {},
   "outputs": [],
   "source": [
    "paths = []\n",
    "error = []\n",
    "\n",
    "exactPrice = priceCallOptionAnalytical(S0,K,T,r,sigma)\n",
    "    \n",
    "for i in range(5,100):\n",
    "    numPaths = 100 * i*i\n",
    "    mcPrice = priceCallOptionMC_Numba(S0,K,T,r,sigma,numPaths)\n",
    "    e = (mcPrice - exactPrice)\n",
    "    paths.append(numPaths)\n",
    "    error.append(e)"
   ]
  },
  {
   "cell_type": "code",
   "execution_count": 52,
   "metadata": {},
   "outputs": [],
   "source": [
    "import matplotlib.pyplot as plt\n",
    "%matplotlib inline"
   ]
  },
  {
   "cell_type": "code",
   "execution_count": 53,
   "metadata": {},
   "outputs": [
    {
     "data": {
      "text/plain": [
       "Text(0,0.5,'Error in Option Price')"
      ]
     },
     "execution_count": 53,
     "metadata": {},
     "output_type": "execute_result"
    },
    {
     "data": {
      "image/png": "[encoded data removed]",
      "text/plain": [
       "<Figure size 640x480 with 1 Axes>"
      ]
     },
     "metadata": {},
     "output_type": "display_data"
    }
   ],
   "source": [
    "plt.figure(figsize=(8,6), dpi=80)\n",
    "plt.plot(paths,error)\n",
    "plt.xlabel('Paths')\n",
    "plt.ylabel('Error in Option Price')"
   ]
  },
  {
   "cell_type": "code",
   "execution_count": null,
   "metadata": {},
   "outputs": [],
   "source": []
  }
 ],
 "metadata": {
  "kernelspec": {
   "display_name": "Python 3",
   "language": "python",
   "name": "python3"
  },
  "language_info": {
   "codemirror_mode": {
    "name": "ipython",
    "version": 3
   },
   "file_extension": ".py",
   "mimetype": "text/x-python",
   "name": "python",
   "nbconvert_exporter": "python",
   "pygments_lexer": "ipython3",
   "version": "3.6.5"
  }
 },
 "nbformat": 4,
 "nbformat_minor": 2
}
