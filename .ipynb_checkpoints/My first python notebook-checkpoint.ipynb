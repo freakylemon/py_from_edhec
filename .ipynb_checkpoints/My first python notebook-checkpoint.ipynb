{
 "cells": [
  {
   "cell_type": "markdown",
   "metadata": {},
   "source": [
    "# My first notebook"
   ]
  },
  {
   "cell_type": "markdown",
   "metadata": {},
   "source": [
    "## Heading 2"
   ]
  },
  {
   "cell_type": "markdown",
   "metadata": {},
   "source": [
    "### Heading3"
   ]
  },
  {
   "cell_type": "code",
   "execution_count": null,
   "metadata": {},
   "outputs": [],
   "source": [
    "print(\"hello EDHEC\")"
   ]
  },
  {
   "cell_type": "code",
   "execution_count": null,
   "metadata": {},
   "outputs": [],
   "source": [
    "x = 5.44442"
   ]
  },
  {
   "cell_type": "code",
   "execution_count": null,
   "metadata": {},
   "outputs": [],
   "source": [
    "x"
   ]
  },
  {
   "cell_type": "code",
   "execution_count": null,
   "metadata": {},
   "outputs": [],
   "source": [
    "print(x)"
   ]
  },
  {
   "cell_type": "code",
   "execution_count": null,
   "metadata": {},
   "outputs": [],
   "source": [
    "int(x)"
   ]
  },
  {
   "cell_type": "code",
   "execution_count": null,
   "metadata": {
    "scrolled": false
   },
   "outputs": [],
   "source": [
    "print(\"hello\" + str(x))"
   ]
  },
  {
   "cell_type": "code",
   "execution_count": null,
   "metadata": {},
   "outputs": [],
   "source": [
    "print(\"hello \" + str(x) + \" EDHEC\")"
   ]
  },
  {
   "cell_type": "code",
   "execution_count": null,
   "metadata": {},
   "outputs": [],
   "source": [
    "from random import randint\n",
    "\n",
    "board = []\n",
    "\n",
    "for x in range(5):\n",
    "  board.append([\"O\"] * 5)\n",
    "\n",
    "def print_board(board):\n",
    "  for row in board:\n",
    "    print (\" \".join(row))\n",
    "\n",
    "print_board(board)\n",
    "\n",
    "def random_row(board):\n",
    "  return randint(0, len(board) - 1)\n",
    "\n",
    "def random_col(board):\n",
    "  return randint(0, len(board[0]) - 1)\n",
    "\n",
    "ship_row = random_row(board)\n",
    "ship_col = random_col(board)\n",
    "print (ship_row)\n",
    "print (ship_col)\n",
    "\n"
   ]
  },
  {
   "cell_type": "code",
   "execution_count": null,
   "metadata": {},
   "outputs": [],
   "source": [
    "y = 3.22"
   ]
  },
  {
   "cell_type": "code",
   "execution_count": null,
   "metadata": {},
   "outputs": [],
   "source": [
    "x*y"
   ]
  },
  {
   "cell_type": "code",
   "execution_count": null,
   "metadata": {},
   "outputs": [],
   "source": [
    "type(x\n",
    ")"
   ]
  },
  {
   "cell_type": "code",
   "execution_count": null,
   "metadata": {},
   "outputs": [],
   "source": [
    "x = \"EDHEC\""
   ]
  },
  {
   "cell_type": "code",
   "execution_count": null,
   "metadata": {},
   "outputs": [],
   "source": [
    "type(x)"
   ]
  },
  {
   "cell_type": "markdown",
   "metadata": {},
   "source": [
    "$e = mc2$"
   ]
  },
  {
   "cell_type": "markdown",
   "metadata": {},
   "source": [
    "$E=mc^2$"
   ]
  },
  {
   "cell_type": "code",
   "execution_count": null,
   "metadata": {},
   "outputs": [],
   "source": [
    "x= 1"
   ]
  },
  {
   "cell_type": "code",
   "execution_count": null,
   "metadata": {},
   "outputs": [],
   "source": [
    "type(x)"
   ]
  },
  {
   "cell_type": "code",
   "execution_count": null,
   "metadata": {},
   "outputs": [],
   "source": [
    "## it's an integer"
   ]
  },
  {
   "cell_type": "code",
   "execution_count": null,
   "metadata": {},
   "outputs": [],
   "source": [
    "x = 1.0"
   ]
  },
  {
   "cell_type": "code",
   "execution_count": null,
   "metadata": {},
   "outputs": [],
   "source": [
    "x = 3.5"
   ]
  },
  {
   "cell_type": "code",
   "execution_count": null,
   "metadata": {},
   "outputs": [],
   "source": [
    "exp(x)"
   ]
  },
  {
   "cell_type": "code",
   "execution_count": null,
   "metadata": {},
   "outputs": [],
   "source": [
    "from math import *"
   ]
  },
  {
   "cell_type": "code",
   "execution_count": null,
   "metadata": {},
   "outputs": [],
   "source": [
    "exp(x)"
   ]
  },
  {
   "cell_type": "code",
   "execution_count": null,
   "metadata": {},
   "outputs": [],
   "source": [
    "exit()"
   ]
  },
  {
   "cell_type": "code",
   "execution_count": null,
   "metadata": {},
   "outputs": [],
   "source": [
    "from math import exp"
   ]
  },
  {
   "cell_type": "code",
   "execution_count": null,
   "metadata": {},
   "outputs": [],
   "source": [
    "x= 3.5"
   ]
  },
  {
   "cell_type": "code",
   "execution_count": null,
   "metadata": {},
   "outputs": [],
   "source": [
    "y = exp(x)"
   ]
  },
  {
   "cell_type": "code",
   "execution_count": null,
   "metadata": {},
   "outputs": [],
   "source": [
    "from math import log"
   ]
  },
  {
   "cell_type": "code",
   "execution_count": null,
   "metadata": {},
   "outputs": [],
   "source": [
    "log(y)"
   ]
  },
  {
   "cell_type": "code",
   "execution_count": null,
   "metadata": {},
   "outputs": [],
   "source": [
    "import numpy as np"
   ]
  },
  {
   "cell_type": "code",
   "execution_count": null,
   "metadata": {},
   "outputs": [],
   "source": [
    "exit()"
   ]
  },
  {
   "cell_type": "code",
   "execution_count": 18,
   "metadata": {
    "scrolled": true
   },
   "outputs": [
    {
     "name": "stdout",
     "output_type": "stream",
     "text": [
      "[0.45809406 0.77269912 0.6930506  ... 0.86134975 0.39222883 0.42279474]\n",
      "29.9 ms ± 2.17 ms per loop (mean ± std. dev. of 7 runs, 10 loops each)\n"
     ]
    }
   ],
   "source": [
    "import numpy as np\n",
    "numElements = 10000\n",
    "rndArray = np.random.rand(numElements)\n",
    "print (rndArray)\n",
    "x = []\n",
    "%timeit for r in rndArray: x.append(np.exp(r))"
   ]
  },
  {
   "cell_type": "code",
   "execution_count": 36,
   "metadata": {},
   "outputs": [
    {
     "name": "stdout",
     "output_type": "stream",
     "text": [
      "[0.71333782 0.29031874 0.62023839 ... 0.51275656 0.31980689 0.343251  ]\n",
      "7.11 ms ± 1.26 ms per loop (mean ± std. dev. of 7 runs, 100 loops each)\n"
     ]
    }
   ],
   "source": [
    "import numpy as np\n",
    "from math import exp\n",
    "numElements = 10000\n",
    "rndArray = np.random.rand(numElements)\n",
    "print (rndArray)\n",
    "x = []\n",
    "%timeit for r in rndArray: x.append(exp(r))"
   ]
  },
  {
   "cell_type": "code",
   "execution_count": 26,
   "metadata": {},
   "outputs": [
    {
     "name": "stdout",
     "output_type": "stream",
     "text": [
      "694 µs ± 66.1 µs per loop (mean ± std. dev. of 7 runs, 1 loop each)\n"
     ]
    }
   ],
   "source": [
    "from numba import jit\n",
    "@jit\n",
    "def f3(rv):#initialize array\n",
    "    x = []\n",
    "    for r in rv:#loop any vector\n",
    "        x.append(exp(r))#here we use exponential as from math\n",
    "    return x\n",
    "\n",
    "%timeit x=f3(rndArray) #this is for speed count\n"
   ]
  },
  {
   "cell_type": "code",
   "execution_count": 37,
   "metadata": {},
   "outputs": [],
   "source": [
    "from numba import jit\n",
    "def basicSort1(x):\n",
    "    n = len(x)\n",
    "    ordered = False\n",
    "    \n",
    "    while ordered == False:\n",
    "        ordered = True\n",
    "        \n",
    "        for i in range(0,n-1):\n",
    "            if x[i+1] < x[i]:\n",
    "                a = x[i]\n",
    "                x[i]= x[i+1]\n",
    "                x[i+1] = a \n",
    "                ordered = False\n",
    "    return x"
   ]
  },
  {
   "cell_type": "code",
   "execution_count": 38,
   "metadata": {},
   "outputs": [
    {
     "name": "stdout",
     "output_type": "stream",
     "text": [
      "[4.02982811e-05 4.27643714e-04 4.36659424e-04 ... 9.99662907e-01\n",
      " 9.99740414e-01 9.99751250e-01]\n"
     ]
    }
   ],
   "source": [
    "print (basicSort1(rndArray))"
   ]
  },
  {
   "cell_type": "code",
   "execution_count": 39,
   "metadata": {},
   "outputs": [
    {
     "name": "stdout",
     "output_type": "stream",
     "text": [
      "5.27 ms ± 279 µs per loop (mean ± std. dev. of 7 runs, 100 loops each)\n"
     ]
    }
   ],
   "source": [
    "%timeit basicSort1(rndArray)"
   ]
  },
  {
   "cell_type": "code",
   "execution_count": 48,
   "metadata": {},
   "outputs": [
    {
     "name": "stdout",
     "output_type": "stream",
     "text": [
      "   odd\n",
      "a    1\n",
      "b    3\n",
      "c    5\n",
      "d    7\n"
     ]
    }
   ],
   "source": [
    "import pandas as pd\n",
    "df = pd.DataFrame([1,3,5,7], columns = ['odd'],index = ['a','b','c','d'])\n",
    "df.index\n",
    "print(df)"
   ]
  },
  {
   "cell_type": "code",
   "execution_count": 49,
   "metadata": {},
   "outputs": [
    {
     "name": "stdout",
     "output_type": "stream",
     "text": [
      "   odd  even\n",
      "a    1     1\n",
      "b    3     2\n",
      "c    5     4\n",
      "d    7     6\n"
     ]
    }
   ],
   "source": [
    "df[\"even\"] = [1,2,4,6]\n",
    "print(df)"
   ]
  },
  {
   "cell_type": "code",
   "execution_count": 69,
   "metadata": {},
   "outputs": [],
   "source": [
    " opt = pd.read_csv('./GermanDataClean.csv')"
   ]
  },
  {
   "cell_type": "code",
   "execution_count": 70,
   "metadata": {},
   "outputs": [
    {
     "data": {
      "text/plain": [
       "(1000, 21)"
      ]
     },
     "execution_count": 70,
     "metadata": {},
     "output_type": "execute_result"
    }
   ],
   "source": [
    "opt.shape"
   ]
  },
  {
   "cell_type": "code",
   "execution_count": 71,
   "metadata": {},
   "outputs": [
    {
     "data": {
      "text/plain": [
       "<bound method DataFrame.info of      Default  Account Balance  Duration of Credit (month)  \\\n",
       "0          1                1                          18   \n",
       "1          1                1                           9   \n",
       "2          1                2                          12   \n",
       "3          1                1                          12   \n",
       "4          1                1                          12   \n",
       "5          1                1                          10   \n",
       "6          1                1                           8   \n",
       "7          1                1                           6   \n",
       "8          1                4                          18   \n",
       "9          1                2                          24   \n",
       "10         1                1                          11   \n",
       "11         1                1                          30   \n",
       "12         1                1                           6   \n",
       "13         1                2                          48   \n",
       "14         1                1                          18   \n",
       "15         1                1                           6   \n",
       "16         1                1                          11   \n",
       "17         1                2                          18   \n",
       "18         1                2                          36   \n",
       "19         1                4                          11   \n",
       "20         1                1                           6   \n",
       "21         1                2                          12   \n",
       "22         0                2                          36   \n",
       "23         1                2                          12   \n",
       "24         1                1                           6   \n",
       "25         1                2                          11   \n",
       "26         1                1                          12   \n",
       "27         1                2                           9   \n",
       "28         1                4                          15   \n",
       "29         1                3                          42   \n",
       "..       ...              ...                         ...   \n",
       "970        0                4                          48   \n",
       "971        0                2                          27   \n",
       "972        0                3                          18   \n",
       "973        0                1                          45   \n",
       "974        0                1                           6   \n",
       "975        0                1                          30   \n",
       "976        0                2                          48   \n",
       "977        0                1                           6   \n",
       "978        0                2                          12   \n",
       "979        0                1                          12   \n",
       "980        0                2                          24   \n",
       "981        0                4                          18   \n",
       "982        0                2                          48   \n",
       "983        0                1                          18   \n",
       "984        0                1                          48   \n",
       "985        0                4                          12   \n",
       "986        0                1                          14   \n",
       "987        0                1                          12   \n",
       "988        0                1                          18   \n",
       "989        0                2                          24   \n",
       "990        0                1                          18   \n",
       "991        0                2                          24   \n",
       "992        0                1                          18   \n",
       "993        0                1                          18   \n",
       "994        0                1                          12   \n",
       "995        0                1                          24   \n",
       "996        0                1                          24   \n",
       "997        0                4                          21   \n",
       "998        0                2                          12   \n",
       "999        0                1                          30   \n",
       "\n",
       "     Payment Status of Previous Credit  Purpose  Credit Amount  \\\n",
       "0                                    4        2           1049   \n",
       "1                                    4        0           2799   \n",
       "2                                    2        9            841   \n",
       "3                                    4        0           2122   \n",
       "4                                    4        0           2171   \n",
       "5                                    4        0           2241   \n",
       "6                                    4        0           3398   \n",
       "7                                    4        0           1361   \n",
       "8                                    4        3           1098   \n",
       "9                                    2        3           3758   \n",
       "10                                   4        0           3905   \n",
       "11                                   4        1           6187   \n",
       "12                                   4        3           1957   \n",
       "13                                   3       10           7582   \n",
       "14                                   2        3           1936   \n",
       "15                                   2        3           2647   \n",
       "16                                   4        0           3939   \n",
       "17                                   2        3           3213   \n",
       "18                                   4        3           2337   \n",
       "19                                   4        0           7228   \n",
       "20                                   4        0           3676   \n",
       "21                                   4        0           3124   \n",
       "22                                   2        5           2384   \n",
       "23                                   4        4           1424   \n",
       "24                                   4        0           4716   \n",
       "25                                   3        3           4771   \n",
       "26                                   2        2            652   \n",
       "27                                   4        3           1154   \n",
       "28                                   2        0           3556   \n",
       "29                                   4        1           4796   \n",
       "..                                 ...      ...            ...   \n",
       "970                                  2        9           4844   \n",
       "971                                  0        9           8318   \n",
       "972                                  2        3           2100   \n",
       "973                                  0        9          11816   \n",
       "974                                  2        6            448   \n",
       "975                                  2        5          11998   \n",
       "976                                  0       10          18424   \n",
       "977                                  2        0          14896   \n",
       "978                                  2        2           2762   \n",
       "979                                  2        1           3386   \n",
       "980                                  2        3           2039   \n",
       "981                                  3        9           2169   \n",
       "982                                  4        2           5096   \n",
       "983                                  2        3           1882   \n",
       "984                                  2        3           6999   \n",
       "985                                  4        9           2292   \n",
       "986                                  2        0           8978   \n",
       "987                                  2        3            674   \n",
       "988                                  2        0            976   \n",
       "989                                  2        0           2718   \n",
       "990                                  2        6            750   \n",
       "991                                  2        1          12579   \n",
       "992                                  2        1           7511   \n",
       "993                                  4        0           3966   \n",
       "994                                  0        3           6199   \n",
       "995                                  2        3           1987   \n",
       "996                                  2        0           2303   \n",
       "997                                  4        0          12680   \n",
       "998                                  2        3           6468   \n",
       "999                                  2        2           6350   \n",
       "\n",
       "     Value Savings/Stocks  Length of current employment  Instalment per cent  \\\n",
       "0                       1                             2                    4   \n",
       "1                       1                             3                    2   \n",
       "2                       2                             4                    2   \n",
       "3                       1                             3                    3   \n",
       "4                       1                             3                    4   \n",
       "5                       1                             2                    1   \n",
       "6                       1                             4                    1   \n",
       "7                       1                             2                    2   \n",
       "8                       1                             1                    4   \n",
       "9                       3                             1                    1   \n",
       "10                      1                             3                    2   \n",
       "11                      2                             4                    1   \n",
       "12                      1                             4                    1   \n",
       "13                      2                             1                    2   \n",
       "14                      5                             4                    2   \n",
       "15                      3                             3                    2   \n",
       "16                      1                             3                    1   \n",
       "17                      3                             2                    1   \n",
       "18                      1                             5                    4   \n",
       "19                      1                             3                    1   \n",
       "20                      1                             3                    1   \n",
       "21                      1                             2                    1   \n",
       "22                      1                             2                    4   \n",
       "23                      1                             4                    4   \n",
       "24                      5                             2                    1   \n",
       "25                      1                             4                    2   \n",
       "26                      1                             5                    4   \n",
       "27                      1                             5                    2   \n",
       "28                      5                             3                    3   \n",
       "29                      1                             5                    4   \n",
       "..                    ...                           ...                  ...   \n",
       "970                     1                             1                    3   \n",
       "971                     1                             5                    2   \n",
       "972                     1                             3                    4   \n",
       "973                     1                             5                    2   \n",
       "974                     1                             2                    4   \n",
       "975                     1                             2                    1   \n",
       "976                     1                             3                    1   \n",
       "977                     1                             5                    1   \n",
       "978                     5                             5                    1   \n",
       "979                     1                             5                    3   \n",
       "980                     1                             2                    1   \n",
       "981                     1                             3                    4   \n",
       "982                     1                             3                    2   \n",
       "983                     1                             3                    4   \n",
       "984                     1                             4                    1   \n",
       "985                     1                             1                    4   \n",
       "986                     1                             5                    1   \n",
       "987                     2                             4                    4   \n",
       "988                     1                             2                    1   \n",
       "989                     1                             3                    3   \n",
       "990                     1                             1                    4   \n",
       "991                     1                             5                    4   \n",
       "992                     5                             5                    1   \n",
       "993                     1                             5                    1   \n",
       "994                     1                             3                    4   \n",
       "995                     1                             3                    2   \n",
       "996                     1                             5                    4   \n",
       "997                     5                             5                    4   \n",
       "998                     5                             1                    2   \n",
       "999                     5                             5                    4   \n",
       "\n",
       "     Sex & Marital Status       ...        Duration in Current address  \\\n",
       "0                       2       ...                                  4   \n",
       "1                       3       ...                                  2   \n",
       "2                       2       ...                                  4   \n",
       "3                       3       ...                                  2   \n",
       "4                       3       ...                                  4   \n",
       "5                       3       ...                                  3   \n",
       "6                       3       ...                                  4   \n",
       "7                       3       ...                                  4   \n",
       "8                       2       ...                                  4   \n",
       "9                       2       ...                                  4   \n",
       "10                      3       ...                                  2   \n",
       "11                      4       ...                                  4   \n",
       "12                      2       ...                                  4   \n",
       "13                      3       ...                                  4   \n",
       "14                      4       ...                                  4   \n",
       "15                      3       ...                                  3   \n",
       "16                      3       ...                                  2   \n",
       "17                      4       ...                                  3   \n",
       "18                      3       ...                                  4   \n",
       "19                      3       ...                                  4   \n",
       "20                      3       ...                                  3   \n",
       "21                      3       ...                                  3   \n",
       "22                      3       ...                                  1   \n",
       "23                      3       ...                                  3   \n",
       "24                      3       ...                                  3   \n",
       "25                      3       ...                                  4   \n",
       "26                      2       ...                                  4   \n",
       "27                      3       ...                                  4   \n",
       "28                      3       ...                                  2   \n",
       "29                      3       ...                                  4   \n",
       "..                    ...       ...                                ...   \n",
       "970                     3       ...                                  2   \n",
       "971                     2       ...                                  4   \n",
       "972                     3       ...                                  2   \n",
       "973                     3       ...                                  4   \n",
       "974                     2       ...                                  4   \n",
       "975                     1       ...                                  1   \n",
       "976                     2       ...                                  2   \n",
       "977                     3       ...                                  4   \n",
       "978                     2       ...                                  2   \n",
       "979                     3       ...                                  4   \n",
       "980                     4       ...                                  1   \n",
       "981                     4       ...                                  2   \n",
       "982                     2       ...                                  3   \n",
       "983                     2       ...                                  4   \n",
       "984                     4       ...                                  1   \n",
       "985                     3       ...                                  2   \n",
       "986                     1       ...                                  4   \n",
       "987                     4       ...                                  1   \n",
       "988                     2       ...                                  2   \n",
       "989                     2       ...                                  4   \n",
       "990                     2       ...                                  1   \n",
       "991                     2       ...                                  2   \n",
       "992                     3       ...                                  4   \n",
       "993                     2       ...                                  4   \n",
       "994                     3       ...                                  2   \n",
       "995                     3       ...                                  4   \n",
       "996                     3       ...                                  1   \n",
       "997                     3       ...                                  4   \n",
       "998                     3       ...                                  1   \n",
       "999                     3       ...                                  4   \n",
       "\n",
       "     Most valuable available asset  Age (years)  Concurrent Credits  \\\n",
       "0                                2           21                   3   \n",
       "1                                1           36                   3   \n",
       "2                                1           23                   3   \n",
       "3                                1           39                   3   \n",
       "4                                2           38                   1   \n",
       "5                                1           48                   3   \n",
       "6                                1           39                   3   \n",
       "7                                1           40                   3   \n",
       "8                                3           65                   3   \n",
       "9                                4           23                   3   \n",
       "10                               1           36                   3   \n",
       "11                               3           24                   3   \n",
       "12                               3           31                   3   \n",
       "13                               4           31                   3   \n",
       "14                               3           23                   3   \n",
       "15                               1           44                   3   \n",
       "16                               1           40                   3   \n",
       "17                               1           25                   3   \n",
       "18                               1           36                   3   \n",
       "19                               2           39                   3   \n",
       "20                               1           37                   3   \n",
       "21                               1           49                   1   \n",
       "22                               4           33                   3   \n",
       "23                               2           26                   3   \n",
       "24                               1           44                   3   \n",
       "25                               2           51                   3   \n",
       "26                               2           24                   3   \n",
       "27                               1           37                   3   \n",
       "28                               4           29                   3   \n",
       "29                               4           56                   3   \n",
       "..                             ...          ...                 ...   \n",
       "970                              3           33                   3   \n",
       "971                              4           42                   2   \n",
       "972                              1           37                   3   \n",
       "973                              3           29                   3   \n",
       "974                              2           23                   3   \n",
       "975                              4           34                   1   \n",
       "976                              2           32                   1   \n",
       "977                              4           68                   1   \n",
       "978                              2           25                   3   \n",
       "979                              4           35                   3   \n",
       "980                              2           22                   3   \n",
       "981                              3           28                   3   \n",
       "982                              3           30                   3   \n",
       "983                              3           25                   1   \n",
       "984                              1           34                   3   \n",
       "985                              3           42                   2   \n",
       "986                              2           45                   3   \n",
       "987                              2           20                   3   \n",
       "988                              3           23                   3   \n",
       "989                              2           20                   3   \n",
       "990                              1           27                   3   \n",
       "991                              4           44                   3   \n",
       "992                              2           51                   3   \n",
       "993                              1           33                   1   \n",
       "994                              2           28                   3   \n",
       "995                              1           21                   3   \n",
       "996                              1           45                   3   \n",
       "997                              4           30                   3   \n",
       "998                              4           52                   3   \n",
       "999                              2           31                   3   \n",
       "\n",
       "     Type of apartment  No of Credits at this Bank  Occupation  \\\n",
       "0                    1                           1           3   \n",
       "1                    1                           2           3   \n",
       "2                    1                           1           2   \n",
       "3                    1                           2           2   \n",
       "4                    2                           2           2   \n",
       "5                    1                           2           2   \n",
       "6                    2                           2           2   \n",
       "7                    2                           1           2   \n",
       "8                    2                           2           1   \n",
       "9                    1                           1           1   \n",
       "10                   1                           2           3   \n",
       "11                   1                           2           3   \n",
       "12                   2                           1           3   \n",
       "13                   2                           1           4   \n",
       "14                   1                           2           2   \n",
       "15                   1                           1           3   \n",
       "16                   2                           2           2   \n",
       "17                   1                           1           3   \n",
       "18                   2                           1           3   \n",
       "19                   2                           2           2   \n",
       "20                   1                           3           3   \n",
       "21                   2                           2           2   \n",
       "22                   1                           1           2   \n",
       "23                   2                           1           3   \n",
       "24                   2                           2           2   \n",
       "25                   2                           1           3   \n",
       "26                   1                           1           3   \n",
       "27                   2                           3           2   \n",
       "28                   2                           1           3   \n",
       "29                   3                           1           3   \n",
       "..                 ...                         ...         ...   \n",
       "970                  1                           1           4   \n",
       "971                  3                           2           4   \n",
       "972                  2                           1           3   \n",
       "973                  1                           2           3   \n",
       "974                  2                           1           3   \n",
       "975                  2                           1           2   \n",
       "976                  2                           1           4   \n",
       "977                  2                           1           4   \n",
       "978                  2                           1           3   \n",
       "979                  3                           1           3   \n",
       "980                  2                           1           3   \n",
       "981                  2                           1           3   \n",
       "982                  2                           1           4   \n",
       "983                  1                           2           3   \n",
       "984                  2                           2           3   \n",
       "985                  2                           2           4   \n",
       "986                  2                           1           4   \n",
       "987                  2                           1           3   \n",
       "988                  2                           1           2   \n",
       "989                  1                           1           2   \n",
       "990                  2                           1           1   \n",
       "991                  3                           1           4   \n",
       "992                  3                           1           3   \n",
       "993                  1                           3           3   \n",
       "994                  1                           2           3   \n",
       "995                  1                           1           2   \n",
       "996                  2                           1           3   \n",
       "997                  3                           1           4   \n",
       "998                  2                           1           4   \n",
       "999                  2                           1           3   \n",
       "\n",
       "     No of dependents  Telephone  Foreign Worker  \n",
       "0                   1          1               1  \n",
       "1                   2          1               1  \n",
       "2                   1          1               1  \n",
       "3                   2          1               2  \n",
       "4                   1          1               2  \n",
       "5                   2          1               2  \n",
       "6                   1          1               2  \n",
       "7                   2          1               2  \n",
       "8                   1          1               1  \n",
       "9                   1          1               1  \n",
       "10                  2          1               1  \n",
       "11                  1          1               1  \n",
       "12                  1          1               1  \n",
       "13                  1          2               1  \n",
       "14                  1          1               1  \n",
       "15                  2          1               1  \n",
       "16                  2          1               1  \n",
       "17                  1          1               1  \n",
       "18                  1          1               1  \n",
       "19                  1          1               1  \n",
       "20                  2          1               1  \n",
       "21                  2          1               1  \n",
       "22                  1          1               1  \n",
       "23                  1          1               1  \n",
       "24                  2          1               1  \n",
       "25                  1          1               1  \n",
       "26                  1          1               1  \n",
       "27                  1          1               1  \n",
       "28                  1          1               1  \n",
       "29                  1          1               1  \n",
       "..                ...        ...             ...  \n",
       "970                 1          2               1  \n",
       "971                 1          2               1  \n",
       "972                 1          1               1  \n",
       "973                 1          1               1  \n",
       "974                 1          1               1  \n",
       "975                 1          2               1  \n",
       "976                 1          2               2  \n",
       "977                 1          2               1  \n",
       "978                 1          2               1  \n",
       "979                 1          2               1  \n",
       "980                 1          2               1  \n",
       "981                 1          2               1  \n",
       "982                 1          2               1  \n",
       "983                 1          1               1  \n",
       "984                 1          2               1  \n",
       "985                 1          2               1  \n",
       "986                 1          2               2  \n",
       "987                 1          1               1  \n",
       "988                 1          1               1  \n",
       "989                 1          2               1  \n",
       "990                 1          1               1  \n",
       "991                 1          2               1  \n",
       "992                 2          2               1  \n",
       "993                 1          2               1  \n",
       "994                 1          2               1  \n",
       "995                 2          1               1  \n",
       "996                 1          1               1  \n",
       "997                 1          2               1  \n",
       "998                 1          2               1  \n",
       "999                 1          1               1  \n",
       "\n",
       "[1000 rows x 21 columns]>"
      ]
     },
     "execution_count": 71,
     "metadata": {},
     "output_type": "execute_result"
    }
   ],
   "source": [
    "opt.info"
   ]
  },
  {
   "cell_type": "code",
   "execution_count": null,
   "metadata": {},
   "outputs": [],
   "source": []
  }
 ],
 "metadata": {
  "kernelspec": {
   "display_name": "Python 3",
   "language": "python",
   "name": "python3"
  },
  "language_info": {
   "codemirror_mode": {
    "name": "ipython",
    "version": 3
   },
   "file_extension": ".py",
   "mimetype": "text/x-python",
   "name": "python",
   "nbconvert_exporter": "python",
   "pygments_lexer": "ipython3",
   "version": "3.6.5"
  }
 },
 "nbformat": 4,
 "nbformat_minor": 2
}
