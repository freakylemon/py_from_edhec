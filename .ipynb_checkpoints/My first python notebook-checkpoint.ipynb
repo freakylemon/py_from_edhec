{
 "cells": [
  {
   "cell_type": "markdown",
   "metadata": {},
   "source": [
    "# My first notebook"
   ]
  },
  {
   "cell_type": "markdown",
   "metadata": {},
   "source": [
    "## Heading 2"
   ]
  },
  {
   "cell_type": "markdown",
   "metadata": {},
   "source": [
    "### Heading3"
   ]
  },
  {
   "cell_type": "code",
   "execution_count": null,
   "metadata": {},
   "outputs": [],
   "source": [
    "print(\"hello EDHEC\")"
   ]
  },
  {
   "cell_type": "code",
   "execution_count": null,
   "metadata": {},
   "outputs": [],
   "source": [
    "x = 5.44442"
   ]
  },
  {
   "cell_type": "code",
   "execution_count": null,
   "metadata": {},
   "outputs": [],
   "source": [
    "x"
   ]
  },
  {
   "cell_type": "code",
   "execution_count": null,
   "metadata": {},
   "outputs": [],
   "source": [
    "print(x)"
   ]
  },
  {
   "cell_type": "code",
   "execution_count": null,
   "metadata": {},
   "outputs": [],
   "source": [
    "int(x)"
   ]
  },
  {
   "cell_type": "code",
   "execution_count": null,
   "metadata": {
    "scrolled": false
   },
   "outputs": [],
   "source": [
    "print(\"hello\" + str(x))"
   ]
  },
  {
   "cell_type": "code",
   "execution_count": null,
   "metadata": {},
   "outputs": [],
   "source": [
    "print(\"hello \" + str(x) + \" EDHEC\")"
   ]
  },
  {
   "cell_type": "code",
   "execution_count": null,
   "metadata": {},
   "outputs": [],
   "source": [
    "from random import randint\n",
    "\n",
    "board = []\n",
    "\n",
    "for x in range(5):\n",
    "  board.append([\"O\"] * 5)\n",
    "\n",
    "def print_board(board):\n",
    "  for row in board:\n",
    "    print (\" \".join(row))\n",
    "\n",
    "print_board(board)\n",
    "\n",
    "def random_row(board):\n",
    "  return randint(0, len(board) - 1)\n",
    "\n",
    "def random_col(board):\n",
    "  return randint(0, len(board[0]) - 1)\n",
    "\n",
    "ship_row = random_row(board)\n",
    "ship_col = random_col(board)\n",
    "print (ship_row)\n",
    "print (ship_col)\n",
    "\n"
   ]
  },
  {
   "cell_type": "code",
   "execution_count": null,
   "metadata": {},
   "outputs": [],
   "source": [
    "y = 3.22"
   ]
  },
  {
   "cell_type": "code",
   "execution_count": null,
   "metadata": {},
   "outputs": [],
   "source": [
    "x*y"
   ]
  },
  {
   "cell_type": "code",
   "execution_count": null,
   "metadata": {},
   "outputs": [],
   "source": [
    "type(x\n",
    ")"
   ]
  },
  {
   "cell_type": "code",
   "execution_count": null,
   "metadata": {},
   "outputs": [],
   "source": [
    "x = \"EDHEC\""
   ]
  },
  {
   "cell_type": "code",
   "execution_count": null,
   "metadata": {},
   "outputs": [],
   "source": [
    "type(x)"
   ]
  },
  {
   "cell_type": "markdown",
   "metadata": {},
   "source": [
    "$e = mc2$"
   ]
  },
  {
   "cell_type": "markdown",
   "metadata": {},
   "source": [
    "$E=mc^2$"
   ]
  },
  {
   "cell_type": "code",
   "execution_count": null,
   "metadata": {},
   "outputs": [],
   "source": [
    "x= 1"
   ]
  },
  {
   "cell_type": "code",
   "execution_count": null,
   "metadata": {},
   "outputs": [],
   "source": [
    "type(x)"
   ]
  },
  {
   "cell_type": "code",
   "execution_count": null,
   "metadata": {},
   "outputs": [],
   "source": [
    "## it's an integer"
   ]
  },
  {
   "cell_type": "code",
   "execution_count": null,
   "metadata": {},
   "outputs": [],
   "source": [
    "x = 1.0"
   ]
  },
  {
   "cell_type": "code",
   "execution_count": null,
   "metadata": {},
   "outputs": [],
   "source": [
    "x = 3.5"
   ]
  },
  {
   "cell_type": "code",
   "execution_count": null,
   "metadata": {},
   "outputs": [],
   "source": [
    "exp(x)"
   ]
  },
  {
   "cell_type": "code",
   "execution_count": null,
   "metadata": {},
   "outputs": [],
   "source": [
    "from math import *"
   ]
  },
  {
   "cell_type": "code",
   "execution_count": null,
   "metadata": {},
   "outputs": [],
   "source": [
    "exp(x)"
   ]
  },
  {
   "cell_type": "code",
   "execution_count": null,
   "metadata": {},
   "outputs": [],
   "source": [
    "exit()"
   ]
  },
  {
   "cell_type": "code",
   "execution_count": null,
   "metadata": {},
   "outputs": [],
   "source": [
    "from math import exp"
   ]
  },
  {
   "cell_type": "code",
   "execution_count": null,
   "metadata": {},
   "outputs": [],
   "source": [
    "x= 3.5"
   ]
  },
  {
   "cell_type": "code",
   "execution_count": null,
   "metadata": {},
   "outputs": [],
   "source": [
    "y = exp(x)"
   ]
  },
  {
   "cell_type": "code",
   "execution_count": null,
   "metadata": {},
   "outputs": [],
   "source": [
    "from math import log"
   ]
  },
  {
   "cell_type": "code",
   "execution_count": null,
   "metadata": {},
   "outputs": [],
   "source": [
    "log(y)"
   ]
  },
  {
   "cell_type": "code",
   "execution_count": null,
   "metadata": {},
   "outputs": [],
   "source": [
    "import numpy as np"
   ]
  },
  {
   "cell_type": "code",
   "execution_count": null,
   "metadata": {},
   "outputs": [],
   "source": [
    "exit()"
   ]
  },
  {
   "cell_type": "code",
   "execution_count": 18,
   "metadata": {
    "scrolled": true
   },
   "outputs": [
    {
     "name": "stdout",
     "output_type": "stream",
     "text": [
      "[0.45809406 0.77269912 0.6930506  ... 0.86134975 0.39222883 0.42279474]\n",
      "29.9 ms ± 2.17 ms per loop (mean ± std. dev. of 7 runs, 10 loops each)\n"
     ]
    }
   ],
   "source": [
    "import numpy as np\n",
    "numElements = 10000\n",
    "rndArray = np.random.rand(numElements)\n",
    "print (rndArray)\n",
    "x = []\n",
    "%timeit for r in rndArray: x.append(np.exp(r))"
   ]
  },
  {
   "cell_type": "code",
   "execution_count": 36,
   "metadata": {},
   "outputs": [
    {
     "name": "stdout",
     "output_type": "stream",
     "text": [
      "[0.71333782 0.29031874 0.62023839 ... 0.51275656 0.31980689 0.343251  ]\n",
      "7.11 ms ± 1.26 ms per loop (mean ± std. dev. of 7 runs, 100 loops each)\n"
     ]
    }
   ],
   "source": [
    "import numpy as np\n",
    "from math import exp\n",
    "numElements = 10000\n",
    "rndArray = np.random.rand(numElements)\n",
    "print (rndArray)\n",
    "x = []\n",
    "%timeit for r in rndArray: x.append(exp(r))"
   ]
  },
  {
   "cell_type": "code",
   "execution_count": 26,
   "metadata": {},
   "outputs": [
    {
     "name": "stdout",
     "output_type": "stream",
     "text": [
      "694 µs ± 66.1 µs per loop (mean ± std. dev. of 7 runs, 1 loop each)\n"
     ]
    }
   ],
   "source": [
    "from numba import jit\n",
    "@jit\n",
    "def f3(rv):#initialize array\n",
    "    x = []\n",
    "    for r in rv:#loop any vector\n",
    "        x.append(exp(r))#here we use exponential as from math\n",
    "    return x\n",
    "\n",
    "%timeit x=f3(rndArray) #this is for speed count\n"
   ]
  },
  {
   "cell_type": "code",
   "execution_count": 37,
   "metadata": {},
   "outputs": [],
   "source": [
    "from numba import jit\n",
    "def basicSort1(x):\n",
    "    n = len(x)\n",
    "    ordered = False\n",
    "    \n",
    "    while ordered == False:\n",
    "        ordered = True\n",
    "        \n",
    "        for i in range(0,n-1):\n",
    "            if x[i+1] < x[i]:\n",
    "                a = x[i]\n",
    "                x[i]= x[i+1]\n",
    "                x[i+1] = a \n",
    "                ordered = False\n",
    "    return x"
   ]
  },
  {
   "cell_type": "code",
   "execution_count": 38,
   "metadata": {},
   "outputs": [
    {
     "name": "stdout",
     "output_type": "stream",
     "text": [
      "[4.02982811e-05 4.27643714e-04 4.36659424e-04 ... 9.99662907e-01\n",
      " 9.99740414e-01 9.99751250e-01]\n"
     ]
    }
   ],
   "source": [
    "print (basicSort1(rndArray))"
   ]
  },
  {
   "cell_type": "code",
   "execution_count": 39,
   "metadata": {},
   "outputs": [
    {
     "name": "stdout",
     "output_type": "stream",
     "text": [
      "5.27 ms ± 279 µs per loop (mean ± std. dev. of 7 runs, 100 loops each)\n"
     ]
    }
   ],
   "source": [
    "%timeit basicSort1(rndArray)"
   ]
  },
  {
   "cell_type": "code",
   "execution_count": 48,
   "metadata": {},
   "outputs": [
    {
     "name": "stdout",
     "output_type": "stream",
     "text": [
      "   odd\n",
      "a    1\n",
      "b    3\n",
      "c    5\n",
      "d    7\n"
     ]
    }
   ],
   "source": [
    "import pandas as pd\n",
    "df = pd.DataFrame([1,3,5,7], columns = ['odd'],index = ['a','b','c','d'])\n",
    "df.index\n",
    "print(df)"
   ]
  },
  {
   "cell_type": "code",
   "execution_count": 49,
   "metadata": {},
   "outputs": [
    {
     "name": "stdout",
     "output_type": "stream",
     "text": [
      "   odd  even\n",
      "a    1     1\n",
      "b    3     2\n",
      "c    5     4\n",
      "d    7     6\n"
     ]
    }
   ],
   "source": [
    "df[\"even\"] = [1,2,4,6]\n",
    "print(df)"
   ]
  },
  {
   "cell_type": "code",
   "execution_count": 85,
   "metadata": {},
   "outputs": [
    {
     "ename": "ParserError",
     "evalue": "Error tokenizing data. C error: Expected 2 fields in line 8, saw 3\n",
     "output_type": "error",
     "traceback": [
      "\u001b[1;31m---------------------------------------------------------------------------\u001b[0m",
      "\u001b[1;31mParserError\u001b[0m                               Traceback (most recent call last)",
      "\u001b[1;32m<ipython-input-85-3fe23b055f67>\u001b[0m in \u001b[0;36m<module>\u001b[1;34m()\u001b[0m\n\u001b[0;32m      1\u001b[0m \u001b[1;32mimport\u001b[0m \u001b[0mpandas\u001b[0m \u001b[1;32mas\u001b[0m \u001b[0mpd\u001b[0m\u001b[1;33m\u001b[0m\u001b[0m\n\u001b[1;32m----> 2\u001b[1;33m \u001b[0mopt\u001b[0m \u001b[1;33m=\u001b[0m \u001b[0mpd\u001b[0m\u001b[1;33m.\u001b[0m\u001b[0mread_csv\u001b[0m\u001b[1;33m(\u001b[0m\u001b[1;34m'./Example_CLOSE_Price_french_equities_edit.csv'\u001b[0m\u001b[1;33m)\u001b[0m\u001b[1;33m\u001b[0m\u001b[0m\n\u001b[0m",
      "\u001b[1;32m~\\Anaconda3\\lib\\site-packages\\pandas\\io\\parsers.py\u001b[0m in \u001b[0;36mparser_f\u001b[1;34m(filepath_or_buffer, sep, delimiter, header, names, index_col, usecols, squeeze, prefix, mangle_dupe_cols, dtype, engine, converters, true_values, false_values, skipinitialspace, skiprows, nrows, na_values, keep_default_na, na_filter, verbose, skip_blank_lines, parse_dates, infer_datetime_format, keep_date_col, date_parser, dayfirst, iterator, chunksize, compression, thousands, decimal, lineterminator, quotechar, quoting, escapechar, comment, encoding, dialect, tupleize_cols, error_bad_lines, warn_bad_lines, skipfooter, doublequote, delim_whitespace, low_memory, memory_map, float_precision)\u001b[0m\n\u001b[0;32m    676\u001b[0m                     skip_blank_lines=skip_blank_lines)\n\u001b[0;32m    677\u001b[0m \u001b[1;33m\u001b[0m\u001b[0m\n\u001b[1;32m--> 678\u001b[1;33m         \u001b[1;32mreturn\u001b[0m \u001b[0m_read\u001b[0m\u001b[1;33m(\u001b[0m\u001b[0mfilepath_or_buffer\u001b[0m\u001b[1;33m,\u001b[0m \u001b[0mkwds\u001b[0m\u001b[1;33m)\u001b[0m\u001b[1;33m\u001b[0m\u001b[0m\n\u001b[0m\u001b[0;32m    679\u001b[0m \u001b[1;33m\u001b[0m\u001b[0m\n\u001b[0;32m    680\u001b[0m     \u001b[0mparser_f\u001b[0m\u001b[1;33m.\u001b[0m\u001b[0m__name__\u001b[0m \u001b[1;33m=\u001b[0m \u001b[0mname\u001b[0m\u001b[1;33m\u001b[0m\u001b[0m\n",
      "\u001b[1;32m~\\Anaconda3\\lib\\site-packages\\pandas\\io\\parsers.py\u001b[0m in \u001b[0;36m_read\u001b[1;34m(filepath_or_buffer, kwds)\u001b[0m\n\u001b[0;32m    444\u001b[0m \u001b[1;33m\u001b[0m\u001b[0m\n\u001b[0;32m    445\u001b[0m     \u001b[1;32mtry\u001b[0m\u001b[1;33m:\u001b[0m\u001b[1;33m\u001b[0m\u001b[0m\n\u001b[1;32m--> 446\u001b[1;33m         \u001b[0mdata\u001b[0m \u001b[1;33m=\u001b[0m \u001b[0mparser\u001b[0m\u001b[1;33m.\u001b[0m\u001b[0mread\u001b[0m\u001b[1;33m(\u001b[0m\u001b[0mnrows\u001b[0m\u001b[1;33m)\u001b[0m\u001b[1;33m\u001b[0m\u001b[0m\n\u001b[0m\u001b[0;32m    447\u001b[0m     \u001b[1;32mfinally\u001b[0m\u001b[1;33m:\u001b[0m\u001b[1;33m\u001b[0m\u001b[0m\n\u001b[0;32m    448\u001b[0m         \u001b[0mparser\u001b[0m\u001b[1;33m.\u001b[0m\u001b[0mclose\u001b[0m\u001b[1;33m(\u001b[0m\u001b[1;33m)\u001b[0m\u001b[1;33m\u001b[0m\u001b[0m\n",
      "\u001b[1;32m~\\Anaconda3\\lib\\site-packages\\pandas\\io\\parsers.py\u001b[0m in \u001b[0;36mread\u001b[1;34m(self, nrows)\u001b[0m\n\u001b[0;32m   1034\u001b[0m                 \u001b[1;32mraise\u001b[0m \u001b[0mValueError\u001b[0m\u001b[1;33m(\u001b[0m\u001b[1;34m'skipfooter not supported for iteration'\u001b[0m\u001b[1;33m)\u001b[0m\u001b[1;33m\u001b[0m\u001b[0m\n\u001b[0;32m   1035\u001b[0m \u001b[1;33m\u001b[0m\u001b[0m\n\u001b[1;32m-> 1036\u001b[1;33m         \u001b[0mret\u001b[0m \u001b[1;33m=\u001b[0m \u001b[0mself\u001b[0m\u001b[1;33m.\u001b[0m\u001b[0m_engine\u001b[0m\u001b[1;33m.\u001b[0m\u001b[0mread\u001b[0m\u001b[1;33m(\u001b[0m\u001b[0mnrows\u001b[0m\u001b[1;33m)\u001b[0m\u001b[1;33m\u001b[0m\u001b[0m\n\u001b[0m\u001b[0;32m   1037\u001b[0m \u001b[1;33m\u001b[0m\u001b[0m\n\u001b[0;32m   1038\u001b[0m         \u001b[1;31m# May alter columns / col_dict\u001b[0m\u001b[1;33m\u001b[0m\u001b[1;33m\u001b[0m\u001b[0m\n",
      "\u001b[1;32m~\\Anaconda3\\lib\\site-packages\\pandas\\io\\parsers.py\u001b[0m in \u001b[0;36mread\u001b[1;34m(self, nrows)\u001b[0m\n\u001b[0;32m   1846\u001b[0m     \u001b[1;32mdef\u001b[0m \u001b[0mread\u001b[0m\u001b[1;33m(\u001b[0m\u001b[0mself\u001b[0m\u001b[1;33m,\u001b[0m \u001b[0mnrows\u001b[0m\u001b[1;33m=\u001b[0m\u001b[1;32mNone\u001b[0m\u001b[1;33m)\u001b[0m\u001b[1;33m:\u001b[0m\u001b[1;33m\u001b[0m\u001b[0m\n\u001b[0;32m   1847\u001b[0m         \u001b[1;32mtry\u001b[0m\u001b[1;33m:\u001b[0m\u001b[1;33m\u001b[0m\u001b[0m\n\u001b[1;32m-> 1848\u001b[1;33m             \u001b[0mdata\u001b[0m \u001b[1;33m=\u001b[0m \u001b[0mself\u001b[0m\u001b[1;33m.\u001b[0m\u001b[0m_reader\u001b[0m\u001b[1;33m.\u001b[0m\u001b[0mread\u001b[0m\u001b[1;33m(\u001b[0m\u001b[0mnrows\u001b[0m\u001b[1;33m)\u001b[0m\u001b[1;33m\u001b[0m\u001b[0m\n\u001b[0m\u001b[0;32m   1849\u001b[0m         \u001b[1;32mexcept\u001b[0m \u001b[0mStopIteration\u001b[0m\u001b[1;33m:\u001b[0m\u001b[1;33m\u001b[0m\u001b[0m\n\u001b[0;32m   1850\u001b[0m             \u001b[1;32mif\u001b[0m \u001b[0mself\u001b[0m\u001b[1;33m.\u001b[0m\u001b[0m_first_chunk\u001b[0m\u001b[1;33m:\u001b[0m\u001b[1;33m\u001b[0m\u001b[0m\n",
      "\u001b[1;32mpandas\\_libs\\parsers.pyx\u001b[0m in \u001b[0;36mpandas._libs.parsers.TextReader.read\u001b[1;34m()\u001b[0m\n",
      "\u001b[1;32mpandas\\_libs\\parsers.pyx\u001b[0m in \u001b[0;36mpandas._libs.parsers.TextReader._read_low_memory\u001b[1;34m()\u001b[0m\n",
      "\u001b[1;32mpandas\\_libs\\parsers.pyx\u001b[0m in \u001b[0;36mpandas._libs.parsers.TextReader._read_rows\u001b[1;34m()\u001b[0m\n",
      "\u001b[1;32mpandas\\_libs\\parsers.pyx\u001b[0m in \u001b[0;36mpandas._libs.parsers.TextReader._tokenize_rows\u001b[1;34m()\u001b[0m\n",
      "\u001b[1;32mpandas\\_libs\\parsers.pyx\u001b[0m in \u001b[0;36mpandas._libs.parsers.raise_parser_error\u001b[1;34m()\u001b[0m\n",
      "\u001b[1;31mParserError\u001b[0m: Error tokenizing data. C error: Expected 2 fields in line 8, saw 3\n"
     ]
    }
   ],
   "source": [
    " import pandas as pd\n",
    "opt = pd.read_csv('./Example_CLOSE_Price_french_equities_edit.csv')"
   ]
  },
  {
   "cell_type": "code",
   "execution_count": 70,
   "metadata": {},
   "outputs": [
    {
     "data": {
      "text/plain": [
       "(1000, 21)"
      ]
     },
     "execution_count": 70,
     "metadata": {},
     "output_type": "execute_result"
    }
   ],
   "source": [
    "opt.shape"
   ]
  },
  {
   "cell_type": "code",
   "execution_count": 76,
   "metadata": {},
   "outputs": [
    {
     "data": {
      "text/plain": [
       "<bound method DataFrame.info of      Default  Account Balance  Duration of Credit (month)  \\\n",
       "0          1                1                          18   \n",
       "1          1                1                           9   \n",
       "2          1                2                          12   \n",
       "3          1                1                          12   \n",
       "4          1                1                          12   \n",
       "5          1                1                          10   \n",
       "6          1                1                           8   \n",
       "7          1                1                           6   \n",
       "8          1                4                          18   \n",
       "9          1                2                          24   \n",
       "10         1                1                          11   \n",
       "11         1                1                          30   \n",
       "12         1                1                           6   \n",
       "13         1                2                          48   \n",
       "14         1                1                          18   \n",
       "15         1                1                           6   \n",
       "16         1                1                          11   \n",
       "17         1                2                          18   \n",
       "18         1                2                          36   \n",
       "19         1                4                          11   \n",
       "20         1                1                           6   \n",
       "21         1                2                          12   \n",
       "22         0                2                          36   \n",
       "23         1                2                          12   \n",
       "24         1                1                           6   \n",
       "25         1                2                          11   \n",
       "26         1                1                          12   \n",
       "27         1                2                           9   \n",
       "28         1                4                          15   \n",
       "29         1                3                          42   \n",
       "..       ...              ...                         ...   \n",
       "970        0                4                          48   \n",
       "971        0                2                          27   \n",
       "972        0                3                          18   \n",
       "973        0                1                          45   \n",
       "974        0                1                           6   \n",
       "975        0                1                          30   \n",
       "976        0                2                          48   \n",
       "977        0                1                           6   \n",
       "978        0                2                          12   \n",
       "979        0                1                          12   \n",
       "980        0                2                          24   \n",
       "981        0                4                          18   \n",
       "982        0                2                          48   \n",
       "983        0                1                          18   \n",
       "984        0                1                          48   \n",
       "985        0                4                          12   \n",
       "986        0                1                          14   \n",
       "987        0                1                          12   \n",
       "988        0                1                          18   \n",
       "989        0                2                          24   \n",
       "990        0                1                          18   \n",
       "991        0                2                          24   \n",
       "992        0                1                          18   \n",
       "993        0                1                          18   \n",
       "994        0                1                          12   \n",
       "995        0                1                          24   \n",
       "996        0                1                          24   \n",
       "997        0                4                          21   \n",
       "998        0                2                          12   \n",
       "999        0                1                          30   \n",
       "\n",
       "     Payment Status of Previous Credit  Purpose  Credit Amount  \\\n",
       "0                                    4        2           1049   \n",
       "1                                    4        0           2799   \n",
       "2                                    2        9            841   \n",
       "3                                    4        0           2122   \n",
       "4                                    4        0           2171   \n",
       "5                                    4        0           2241   \n",
       "6                                    4        0           3398   \n",
       "7                                    4        0           1361   \n",
       "8                                    4        3           1098   \n",
       "9                                    2        3           3758   \n",
       "10                                   4        0           3905   \n",
       "11                                   4        1           6187   \n",
       "12                                   4        3           1957   \n",
       "13                                   3       10           7582   \n",
       "14                                   2        3           1936   \n",
       "15                                   2        3           2647   \n",
       "16                                   4        0           3939   \n",
       "17                                   2        3           3213   \n",
       "18                                   4        3           2337   \n",
       "19                                   4        0           7228   \n",
       "20                                   4        0           3676   \n",
       "21                                   4        0           3124   \n",
       "22                                   2        5           2384   \n",
       "23                                   4        4           1424   \n",
       "24                                   4        0           4716   \n",
       "25                                   3        3           4771   \n",
       "26                                   2        2            652   \n",
       "27                                   4        3           1154   \n",
       "28                                   2        0           3556   \n",
       "29                                   4        1           4796   \n",
       "..                                 ...      ...            ...   \n",
       "970                                  2        9           4844   \n",
       "971                                  0        9           8318   \n",
       "972                                  2        3           2100   \n",
       "973                                  0        9          11816   \n",
       "974                                  2        6            448   \n",
       "975                                  2        5          11998   \n",
       "976                                  0       10          18424   \n",
       "977                                  2        0          14896   \n",
       "978                                  2        2           2762   \n",
       "979                                  2        1           3386   \n",
       "980                                  2        3           2039   \n",
       "981                                  3        9           2169   \n",
       "982                                  4        2           5096   \n",
       "983                                  2        3           1882   \n",
       "984                                  2        3           6999   \n",
       "985                                  4        9           2292   \n",
       "986                                  2        0           8978   \n",
       "987                                  2        3            674   \n",
       "988                                  2        0            976   \n",
       "989                                  2        0           2718   \n",
       "990                                  2        6            750   \n",
       "991                                  2        1          12579   \n",
       "992                                  2        1           7511   \n",
       "993                                  4        0           3966   \n",
       "994                                  0        3           6199   \n",
       "995                                  2        3           1987   \n",
       "996                                  2        0           2303   \n",
       "997                                  4        0          12680   \n",
       "998                                  2        3           6468   \n",
       "999                                  2        2           6350   \n",
       "\n",
       "     Value Savings/Stocks  Length of current employment  Instalment per cent  \\\n",
       "0                       1                             2                    4   \n",
       "1                       1                             3                    2   \n",
       "2                       2                             4                    2   \n",
       "3                       1                             3                    3   \n",
       "4                       1                             3                    4   \n",
       "5                       1                             2                    1   \n",
       "6                       1                             4                    1   \n",
       "7                       1                             2                    2   \n",
       "8                       1                             1                    4   \n",
       "9                       3                             1                    1   \n",
       "10                      1                             3                    2   \n",
       "11                      2                             4                    1   \n",
       "12                      1                             4                    1   \n",
       "13                      2                             1                    2   \n",
       "14                      5                             4                    2   \n",
       "15                      3                             3                    2   \n",
       "16                      1                             3                    1   \n",
       "17                      3                             2                    1   \n",
       "18                      1                             5                    4   \n",
       "19                      1                             3                    1   \n",
       "20                      1                             3                    1   \n",
       "21                      1                             2                    1   \n",
       "22                      1                             2                    4   \n",
       "23                      1                             4                    4   \n",
       "24                      5                             2                    1   \n",
       "25                      1                             4                    2   \n",
       "26                      1                             5                    4   \n",
       "27                      1                             5                    2   \n",
       "28                      5                             3                    3   \n",
       "29                      1                             5                    4   \n",
       "..                    ...                           ...                  ...   \n",
       "970                     1                             1                    3   \n",
       "971                     1                             5                    2   \n",
       "972                     1                             3                    4   \n",
       "973                     1                             5                    2   \n",
       "974                     1                             2                    4   \n",
       "975                     1                             2                    1   \n",
       "976                     1                             3                    1   \n",
       "977                     1                             5                    1   \n",
       "978                     5                             5                    1   \n",
       "979                     1                             5                    3   \n",
       "980                     1                             2                    1   \n",
       "981                     1                             3                    4   \n",
       "982                     1                             3                    2   \n",
       "983                     1                             3                    4   \n",
       "984                     1                             4                    1   \n",
       "985                     1                             1                    4   \n",
       "986                     1                             5                    1   \n",
       "987                     2                             4                    4   \n",
       "988                     1                             2                    1   \n",
       "989                     1                             3                    3   \n",
       "990                     1                             1                    4   \n",
       "991                     1                             5                    4   \n",
       "992                     5                             5                    1   \n",
       "993                     1                             5                    1   \n",
       "994                     1                             3                    4   \n",
       "995                     1                             3                    2   \n",
       "996                     1                             5                    4   \n",
       "997                     5                             5                    4   \n",
       "998                     5                             1                    2   \n",
       "999                     5                             5                    4   \n",
       "\n",
       "     Sex & Marital Status       ...        Duration in Current address  \\\n",
       "0                       2       ...                                  4   \n",
       "1                       3       ...                                  2   \n",
       "2                       2       ...                                  4   \n",
       "3                       3       ...                                  2   \n",
       "4                       3       ...                                  4   \n",
       "5                       3       ...                                  3   \n",
       "6                       3       ...                                  4   \n",
       "7                       3       ...                                  4   \n",
       "8                       2       ...                                  4   \n",
       "9                       2       ...                                  4   \n",
       "10                      3       ...                                  2   \n",
       "11                      4       ...                                  4   \n",
       "12                      2       ...                                  4   \n",
       "13                      3       ...                                  4   \n",
       "14                      4       ...                                  4   \n",
       "15                      3       ...                                  3   \n",
       "16                      3       ...                                  2   \n",
       "17                      4       ...                                  3   \n",
       "18                      3       ...                                  4   \n",
       "19                      3       ...                                  4   \n",
       "20                      3       ...                                  3   \n",
       "21                      3       ...                                  3   \n",
       "22                      3       ...                                  1   \n",
       "23                      3       ...                                  3   \n",
       "24                      3       ...                                  3   \n",
       "25                      3       ...                                  4   \n",
       "26                      2       ...                                  4   \n",
       "27                      3       ...                                  4   \n",
       "28                      3       ...                                  2   \n",
       "29                      3       ...                                  4   \n",
       "..                    ...       ...                                ...   \n",
       "970                     3       ...                                  2   \n",
       "971                     2       ...                                  4   \n",
       "972                     3       ...                                  2   \n",
       "973                     3       ...                                  4   \n",
       "974                     2       ...                                  4   \n",
       "975                     1       ...                                  1   \n",
       "976                     2       ...                                  2   \n",
       "977                     3       ...                                  4   \n",
       "978                     2       ...                                  2   \n",
       "979                     3       ...                                  4   \n",
       "980                     4       ...                                  1   \n",
       "981                     4       ...                                  2   \n",
       "982                     2       ...                                  3   \n",
       "983                     2       ...                                  4   \n",
       "984                     4       ...                                  1   \n",
       "985                     3       ...                                  2   \n",
       "986                     1       ...                                  4   \n",
       "987                     4       ...                                  1   \n",
       "988                     2       ...                                  2   \n",
       "989                     2       ...                                  4   \n",
       "990                     2       ...                                  1   \n",
       "991                     2       ...                                  2   \n",
       "992                     3       ...                                  4   \n",
       "993                     2       ...                                  4   \n",
       "994                     3       ...                                  2   \n",
       "995                     3       ...                                  4   \n",
       "996                     3       ...                                  1   \n",
       "997                     3       ...                                  4   \n",
       "998                     3       ...                                  1   \n",
       "999                     3       ...                                  4   \n",
       "\n",
       "     Most valuable available asset  Age (years)  Concurrent Credits  \\\n",
       "0                                2           21                   3   \n",
       "1                                1           36                   3   \n",
       "2                                1           23                   3   \n",
       "3                                1           39                   3   \n",
       "4                                2           38                   1   \n",
       "5                                1           48                   3   \n",
       "6                                1           39                   3   \n",
       "7                                1           40                   3   \n",
       "8                                3           65                   3   \n",
       "9                                4           23                   3   \n",
       "10                               1           36                   3   \n",
       "11                               3           24                   3   \n",
       "12                               3           31                   3   \n",
       "13                               4           31                   3   \n",
       "14                               3           23                   3   \n",
       "15                               1           44                   3   \n",
       "16                               1           40                   3   \n",
       "17                               1           25                   3   \n",
       "18                               1           36                   3   \n",
       "19                               2           39                   3   \n",
       "20                               1           37                   3   \n",
       "21                               1           49                   1   \n",
       "22                               4           33                   3   \n",
       "23                               2           26                   3   \n",
       "24                               1           44                   3   \n",
       "25                               2           51                   3   \n",
       "26                               2           24                   3   \n",
       "27                               1           37                   3   \n",
       "28                               4           29                   3   \n",
       "29                               4           56                   3   \n",
       "..                             ...          ...                 ...   \n",
       "970                              3           33                   3   \n",
       "971                              4           42                   2   \n",
       "972                              1           37                   3   \n",
       "973                              3           29                   3   \n",
       "974                              2           23                   3   \n",
       "975                              4           34                   1   \n",
       "976                              2           32                   1   \n",
       "977                              4           68                   1   \n",
       "978                              2           25                   3   \n",
       "979                              4           35                   3   \n",
       "980                              2           22                   3   \n",
       "981                              3           28                   3   \n",
       "982                              3           30                   3   \n",
       "983                              3           25                   1   \n",
       "984                              1           34                   3   \n",
       "985                              3           42                   2   \n",
       "986                              2           45                   3   \n",
       "987                              2           20                   3   \n",
       "988                              3           23                   3   \n",
       "989                              2           20                   3   \n",
       "990                              1           27                   3   \n",
       "991                              4           44                   3   \n",
       "992                              2           51                   3   \n",
       "993                              1           33                   1   \n",
       "994                              2           28                   3   \n",
       "995                              1           21                   3   \n",
       "996                              1           45                   3   \n",
       "997                              4           30                   3   \n",
       "998                              4           52                   3   \n",
       "999                              2           31                   3   \n",
       "\n",
       "     Type of apartment  No of Credits at this Bank  Occupation  \\\n",
       "0                    1                           1           3   \n",
       "1                    1                           2           3   \n",
       "2                    1                           1           2   \n",
       "3                    1                           2           2   \n",
       "4                    2                           2           2   \n",
       "5                    1                           2           2   \n",
       "6                    2                           2           2   \n",
       "7                    2                           1           2   \n",
       "8                    2                           2           1   \n",
       "9                    1                           1           1   \n",
       "10                   1                           2           3   \n",
       "11                   1                           2           3   \n",
       "12                   2                           1           3   \n",
       "13                   2                           1           4   \n",
       "14                   1                           2           2   \n",
       "15                   1                           1           3   \n",
       "16                   2                           2           2   \n",
       "17                   1                           1           3   \n",
       "18                   2                           1           3   \n",
       "19                   2                           2           2   \n",
       "20                   1                           3           3   \n",
       "21                   2                           2           2   \n",
       "22                   1                           1           2   \n",
       "23                   2                           1           3   \n",
       "24                   2                           2           2   \n",
       "25                   2                           1           3   \n",
       "26                   1                           1           3   \n",
       "27                   2                           3           2   \n",
       "28                   2                           1           3   \n",
       "29                   3                           1           3   \n",
       "..                 ...                         ...         ...   \n",
       "970                  1                           1           4   \n",
       "971                  3                           2           4   \n",
       "972                  2                           1           3   \n",
       "973                  1                           2           3   \n",
       "974                  2                           1           3   \n",
       "975                  2                           1           2   \n",
       "976                  2                           1           4   \n",
       "977                  2                           1           4   \n",
       "978                  2                           1           3   \n",
       "979                  3                           1           3   \n",
       "980                  2                           1           3   \n",
       "981                  2                           1           3   \n",
       "982                  2                           1           4   \n",
       "983                  1                           2           3   \n",
       "984                  2                           2           3   \n",
       "985                  2                           2           4   \n",
       "986                  2                           1           4   \n",
       "987                  2                           1           3   \n",
       "988                  2                           1           2   \n",
       "989                  1                           1           2   \n",
       "990                  2                           1           1   \n",
       "991                  3                           1           4   \n",
       "992                  3                           1           3   \n",
       "993                  1                           3           3   \n",
       "994                  1                           2           3   \n",
       "995                  1                           1           2   \n",
       "996                  2                           1           3   \n",
       "997                  3                           1           4   \n",
       "998                  2                           1           4   \n",
       "999                  2                           1           3   \n",
       "\n",
       "     No of dependents  Telephone  Foreign Worker  \n",
       "0                   1          1               1  \n",
       "1                   2          1               1  \n",
       "2                   1          1               1  \n",
       "3                   2          1               2  \n",
       "4                   1          1               2  \n",
       "5                   2          1               2  \n",
       "6                   1          1               2  \n",
       "7                   2          1               2  \n",
       "8                   1          1               1  \n",
       "9                   1          1               1  \n",
       "10                  2          1               1  \n",
       "11                  1          1               1  \n",
       "12                  1          1               1  \n",
       "13                  1          2               1  \n",
       "14                  1          1               1  \n",
       "15                  2          1               1  \n",
       "16                  2          1               1  \n",
       "17                  1          1               1  \n",
       "18                  1          1               1  \n",
       "19                  1          1               1  \n",
       "20                  2          1               1  \n",
       "21                  2          1               1  \n",
       "22                  1          1               1  \n",
       "23                  1          1               1  \n",
       "24                  2          1               1  \n",
       "25                  1          1               1  \n",
       "26                  1          1               1  \n",
       "27                  1          1               1  \n",
       "28                  1          1               1  \n",
       "29                  1          1               1  \n",
       "..                ...        ...             ...  \n",
       "970                 1          2               1  \n",
       "971                 1          2               1  \n",
       "972                 1          1               1  \n",
       "973                 1          1               1  \n",
       "974                 1          1               1  \n",
       "975                 1          2               1  \n",
       "976                 1          2               2  \n",
       "977                 1          2               1  \n",
       "978                 1          2               1  \n",
       "979                 1          2               1  \n",
       "980                 1          2               1  \n",
       "981                 1          2               1  \n",
       "982                 1          2               1  \n",
       "983                 1          1               1  \n",
       "984                 1          2               1  \n",
       "985                 1          2               1  \n",
       "986                 1          2               2  \n",
       "987                 1          1               1  \n",
       "988                 1          1               1  \n",
       "989                 1          2               1  \n",
       "990                 1          1               1  \n",
       "991                 1          2               1  \n",
       "992                 2          2               1  \n",
       "993                 1          2               1  \n",
       "994                 1          2               1  \n",
       "995                 2          1               1  \n",
       "996                 1          1               1  \n",
       "997                 1          2               1  \n",
       "998                 1          2               1  \n",
       "999                 1          1               1  \n",
       "\n",
       "[1000 rows x 21 columns]>"
      ]
     },
     "execution_count": 76,
     "metadata": {},
     "output_type": "execute_result"
    }
   ],
   "source": [
    "opt.info"
   ]
  },
  {
   "cell_type": "code",
   "execution_count": 78,
   "metadata": {
    "scrolled": true
   },
   "outputs": [
    {
     "ename": "AttributeError",
     "evalue": "'DataFrame' object has no attribute 'ticker'",
     "output_type": "error",
     "traceback": [
      "\u001b[1;31m---------------------------------------------------------------------------\u001b[0m",
      "\u001b[1;31mAttributeError\u001b[0m                            Traceback (most recent call last)",
      "\u001b[1;32m<ipython-input-78-d8222148a137>\u001b[0m in \u001b[0;36m<module>\u001b[1;34m()\u001b[0m\n\u001b[1;32m----> 1\u001b[1;33m \u001b[0mopt\u001b[0m\u001b[1;33m.\u001b[0m\u001b[0mticker\u001b[0m\u001b[1;33m\u001b[0m\u001b[0m\n\u001b[0m",
      "\u001b[1;32m~\\Anaconda3\\lib\\site-packages\\pandas\\core\\generic.py\u001b[0m in \u001b[0;36m__getattr__\u001b[1;34m(self, name)\u001b[0m\n\u001b[0;32m   4370\u001b[0m             \u001b[1;32mif\u001b[0m \u001b[0mself\u001b[0m\u001b[1;33m.\u001b[0m\u001b[0m_info_axis\u001b[0m\u001b[1;33m.\u001b[0m\u001b[0m_can_hold_identifiers_and_holds_name\u001b[0m\u001b[1;33m(\u001b[0m\u001b[0mname\u001b[0m\u001b[1;33m)\u001b[0m\u001b[1;33m:\u001b[0m\u001b[1;33m\u001b[0m\u001b[0m\n\u001b[0;32m   4371\u001b[0m                 \u001b[1;32mreturn\u001b[0m \u001b[0mself\u001b[0m\u001b[1;33m[\u001b[0m\u001b[0mname\u001b[0m\u001b[1;33m]\u001b[0m\u001b[1;33m\u001b[0m\u001b[0m\n\u001b[1;32m-> 4372\u001b[1;33m             \u001b[1;32mreturn\u001b[0m \u001b[0mobject\u001b[0m\u001b[1;33m.\u001b[0m\u001b[0m__getattribute__\u001b[0m\u001b[1;33m(\u001b[0m\u001b[0mself\u001b[0m\u001b[1;33m,\u001b[0m \u001b[0mname\u001b[0m\u001b[1;33m)\u001b[0m\u001b[1;33m\u001b[0m\u001b[0m\n\u001b[0m\u001b[0;32m   4373\u001b[0m \u001b[1;33m\u001b[0m\u001b[0m\n\u001b[0;32m   4374\u001b[0m     \u001b[1;32mdef\u001b[0m \u001b[0m__setattr__\u001b[0m\u001b[1;33m(\u001b[0m\u001b[0mself\u001b[0m\u001b[1;33m,\u001b[0m \u001b[0mname\u001b[0m\u001b[1;33m,\u001b[0m \u001b[0mvalue\u001b[0m\u001b[1;33m)\u001b[0m\u001b[1;33m:\u001b[0m\u001b[1;33m\u001b[0m\u001b[0m\n",
      "\u001b[1;31mAttributeError\u001b[0m: 'DataFrame' object has no attribute 'ticker'"
     ]
    }
   ],
   "source": []
  },
  {
   "cell_type": "code",
   "execution_count": 4,
   "metadata": {},
   "outputs": [],
   "source": [
    "import numpy as np"
   ]
  },
  {
   "cell_type": "code",
   "execution_count": 5,
   "metadata": {},
   "outputs": [],
   "source": [
    "v = np.array([2,6,4,3])"
   ]
  },
  {
   "cell_type": "code",
   "execution_count": 6,
   "metadata": {},
   "outputs": [
    {
     "name": "stdout",
     "output_type": "stream",
     "text": [
      "[2 6 4 3]\n"
     ]
    }
   ],
   "source": [
    "print (v)"
   ]
  },
  {
   "cell_type": "code",
   "execution_count": 8,
   "metadata": {},
   "outputs": [],
   "source": [
    "m = np.array([[1,2,5], [4,3,4],[5,2,5]])"
   ]
  },
  {
   "cell_type": "code",
   "execution_count": 9,
   "metadata": {},
   "outputs": [
    {
     "data": {
      "text/plain": [
       "numpy.ndarray"
      ]
     },
     "execution_count": 9,
     "metadata": {},
     "output_type": "execute_result"
    }
   ],
   "source": [
    "type (m)"
   ]
  },
  {
   "cell_type": "code",
   "execution_count": 10,
   "metadata": {},
   "outputs": [
    {
     "data": {
      "text/plain": [
       "(3, 3)"
      ]
     },
     "execution_count": 10,
     "metadata": {},
     "output_type": "execute_result"
    }
   ],
   "source": [
    "m.shape"
   ]
  },
  {
   "cell_type": "code",
   "execution_count": 11,
   "metadata": {},
   "outputs": [
    {
     "data": {
      "text/plain": [
       "4"
      ]
     },
     "execution_count": 11,
     "metadata": {},
     "output_type": "execute_result"
    }
   ],
   "source": [
    "m[1][2]"
   ]
  },
  {
   "cell_type": "code",
   "execution_count": 13,
   "metadata": {},
   "outputs": [],
   "source": [
    "m2 = np.zeros((3,4))"
   ]
  },
  {
   "cell_type": "code",
   "execution_count": 14,
   "metadata": {},
   "outputs": [
    {
     "data": {
      "text/plain": [
       "array([[0., 0., 0., 0.],\n",
       "       [0., 0., 0., 0.],\n",
       "       [0., 0., 0., 0.]])"
      ]
     },
     "execution_count": 14,
     "metadata": {},
     "output_type": "execute_result"
    }
   ],
   "source": [
    "m2"
   ]
  },
  {
   "cell_type": "code",
   "execution_count": 15,
   "metadata": {},
   "outputs": [
    {
     "data": {
      "text/plain": [
       "array([[1., 0., 0., 0., 0.],\n",
       "       [0., 1., 0., 0., 0.],\n",
       "       [0., 0., 1., 0., 0.],\n",
       "       [0., 0., 0., 1., 0.],\n",
       "       [0., 0., 0., 0., 1.]])"
      ]
     },
     "execution_count": 15,
     "metadata": {},
     "output_type": "execute_result"
    }
   ],
   "source": [
    "np.eye(5)"
   ]
  },
  {
   "cell_type": "code",
   "execution_count": 17,
   "metadata": {},
   "outputs": [
    {
     "data": {
      "text/plain": [
       "array([[[0., 0.],\n",
       "        [0., 0.],\n",
       "        [0., 0.]],\n",
       "\n",
       "       [[0., 0.],\n",
       "        [0., 0.],\n",
       "        [0., 0.]]])"
      ]
     },
     "execution_count": 17,
     "metadata": {},
     "output_type": "execute_result"
    }
   ],
   "source": [
    "np.zeros((2,3,2))"
   ]
  },
  {
   "cell_type": "code",
   "execution_count": 18,
   "metadata": {},
   "outputs": [
    {
     "data": {
      "text/plain": [
       "array([[1, 2, 5],\n",
       "       [4, 3, 4],\n",
       "       [5, 2, 5]])"
      ]
     },
     "execution_count": 18,
     "metadata": {},
     "output_type": "execute_result"
    }
   ],
   "source": [
    "m"
   ]
  },
  {
   "cell_type": "code",
   "execution_count": 19,
   "metadata": {},
   "outputs": [
    {
     "data": {
      "text/plain": [
       "array([[1, 4, 5],\n",
       "       [2, 3, 2],\n",
       "       [5, 4, 5]])"
      ]
     },
     "execution_count": 19,
     "metadata": {},
     "output_type": "execute_result"
    }
   ],
   "source": [
    "m.T"
   ]
  },
  {
   "cell_type": "code",
   "execution_count": 20,
   "metadata": {},
   "outputs": [
    {
     "data": {
      "text/plain": [
       "array([[30, 30, 34],\n",
       "       [30, 41, 46],\n",
       "       [34, 46, 54]])"
      ]
     },
     "execution_count": 20,
     "metadata": {},
     "output_type": "execute_result"
    }
   ],
   "source": [
    "m.dot(m.T)"
   ]
  },
  {
   "cell_type": "code",
   "execution_count": 21,
   "metadata": {},
   "outputs": [
    {
     "data": {
      "text/plain": [
       "array([[1, 2, 5],\n",
       "       [4, 3, 4],\n",
       "       [5, 2, 5]])"
      ]
     },
     "execution_count": 21,
     "metadata": {},
     "output_type": "execute_result"
    }
   ],
   "source": [
    "m"
   ]
  },
  {
   "cell_type": "code",
   "execution_count": 25,
   "metadata": {},
   "outputs": [
    {
     "data": {
      "text/plain": [
       "2.5833333333333335"
      ]
     },
     "execution_count": 25,
     "metadata": {},
     "output_type": "execute_result"
    }
   ],
   "source": [
    "m.sum()/12"
   ]
  },
  {
   "cell_type": "code",
   "execution_count": 26,
   "metadata": {},
   "outputs": [
    {
     "data": {
      "text/plain": [
       "3.4444444444444446"
      ]
     },
     "execution_count": 26,
     "metadata": {},
     "output_type": "execute_result"
    }
   ],
   "source": [
    "m.mean()"
   ]
  },
  {
   "cell_type": "code",
   "execution_count": 28,
   "metadata": {},
   "outputs": [
    {
     "data": {
      "text/plain": [
       "array([[-2.50000000e-01,  0.00000000e+00,  2.50000000e-01],\n",
       "       [ 6.93889390e-17,  7.14285714e-01, -5.71428571e-01],\n",
       "       [ 2.50000000e-01, -2.85714286e-01,  1.78571429e-01]])"
      ]
     },
     "execution_count": 28,
     "metadata": {},
     "output_type": "execute_result"
    }
   ],
   "source": [
    "inv = np.linalg.inv(m)\n",
    "inv"
   ]
  },
  {
   "cell_type": "code",
   "execution_count": 29,
   "metadata": {},
   "outputs": [],
   "source": [
    "import math"
   ]
  },
  {
   "cell_type": "code",
   "execution_count": 30,
   "metadata": {},
   "outputs": [
    {
     "data": {
      "text/plain": [
       "array([[  2.71828183,   7.3890561 , 148.4131591 ],\n",
       "       [ 54.59815003,  20.08553692,  54.59815003],\n",
       "       [148.4131591 ,   7.3890561 , 148.4131591 ]])"
      ]
     },
     "execution_count": 30,
     "metadata": {},
     "output_type": "execute_result"
    }
   ],
   "source": [
    "np.exp(m)"
   ]
  },
  {
   "cell_type": "code",
   "execution_count": 34,
   "metadata": {},
   "outputs": [
    {
     "data": {
      "text/plain": [
       "2"
      ]
     },
     "execution_count": 34,
     "metadata": {},
     "output_type": "execute_result"
    }
   ],
   "source": [
    "m.ndim\n",
    "#dimension"
   ]
  },
  {
   "cell_type": "code",
   "execution_count": 35,
   "metadata": {},
   "outputs": [
    {
     "data": {
      "text/plain": [
       "3"
      ]
     },
     "execution_count": 35,
     "metadata": {},
     "output_type": "execute_result"
    }
   ],
   "source": [
    "len(m)"
   ]
  },
  {
   "cell_type": "markdown",
   "metadata": {},
   "source": [
    "## Vecotrized"
   ]
  },
  {
   "cell_type": "markdown",
   "metadata": {},
   "source": [
    "#### Intro to MatplotLib"
   ]
  },
  {
   "cell_type": "code",
   "execution_count": 38,
   "metadata": {},
   "outputs": [],
   "source": [
    "import matplotlib.pyplot as plt\n",
    "plt.style.use('seaborn')"
   ]
  },
  {
   "cell_type": "code",
   "execution_count": 39,
   "metadata": {},
   "outputs": [
    {
     "name": "stdout",
     "output_type": "stream",
     "text": [
      "['bmh', 'classic', 'dark_background', 'fast', 'fivethirtyeight', 'ggplot', 'grayscale', 'seaborn-bright', 'seaborn-colorblind', 'seaborn-dark-palette', 'seaborn-dark', 'seaborn-darkgrid', 'seaborn-deep', 'seaborn-muted', 'seaborn-notebook', 'seaborn-paper', 'seaborn-pastel', 'seaborn-poster', 'seaborn-talk', 'seaborn-ticks', 'seaborn-white', 'seaborn-whitegrid', 'seaborn', 'Solarize_Light2', 'tableau-colorblind10', '_classic_test']\n"
     ]
    }
   ],
   "source": [
    "print(plt.style.available)"
   ]
  },
  {
   "cell_type": "code",
   "execution_count": 45,
   "metadata": {},
   "outputs": [
    {
     "name": "stdout",
     "output_type": "stream",
     "text": [
      "[0.  0.1 0.2 0.3 0.4 0.5 0.6 0.7 0.8 0.9 1.  1.1 1.2 1.3 1.4 1.5 1.6 1.7\n",
      " 1.8 1.9 2.  2.1 2.2 2.3 2.4 2.5 2.6 2.7 2.8 2.9 3.  3.1 3.2 3.3 3.4 3.5\n",
      " 3.6 3.7 3.8 3.9 4.  4.1 4.2 4.3 4.4 4.5 4.6 4.7 4.8 4.9]\n"
     ]
    }
   ],
   "source": [
    "x = np.arange(0, 5, 0.1)\n",
    "y2 = x ** 2\n",
    "print(x)"
   ]
  },
  {
   "cell_type": "code",
   "execution_count": 46,
   "metadata": {},
   "outputs": [
    {
     "data": {
      "text/plain": [
       "Text(0.5, 1.0, 'Quadratic Function')"
      ]
     },
     "execution_count": 46,
     "metadata": {},
     "output_type": "execute_result"
    },
    {
     "data": {
      "image/png": "[encoded data removed]",
      "text/plain": [
       "<Figure size 432x432 with 1 Axes>"
      ]
     },
     "metadata": {},
     "output_type": "display_data"
    }
   ],
   "source": [
    "plt.figure(figsize = (6,6))\n",
    "plt.plot(x, y2, 'r')\n",
    "plt.xlabel('x')\n",
    "plt.ylabel('x squared')\n",
    "plt.title('Quadratic Function')"
   ]
  },
  {
   "cell_type": "code",
   "execution_count": 47,
   "metadata": {},
   "outputs": [],
   "source": [
    "y3 = x ** 3"
   ]
  },
  {
   "cell_type": "code",
   "execution_count": 49,
   "metadata": {},
   "outputs": [
    {
     "data": {
      "text/plain": [
       "<matplotlib.legend.Legend at 0x1c4af25b080>"
      ]
     },
     "execution_count": 49,
     "metadata": {},
     "output_type": "execute_result"
    },
    {
     "data": {
      "image/png": "[encoded data removed]",
      "text/plain": [
       "<Figure size 864x432 with 1 Axes>"
      ]
     },
     "metadata": {},
     "output_type": "display_data"
    }
   ],
   "source": [
    "plt.figure(figsize = (12,6))\n",
    "plt.plot(x, y2, 'r', label = \"Quadratic\")\n",
    "plt.plot(x, y3, 'g', label = \"Cubic\")\n",
    "plt.xlabel('x')\n",
    "plt.ylabel('y')\n",
    "plt.title('Polymials')\n",
    "plt.grid()\n",
    "plt.legend()"
   ]
  },
  {
   "cell_type": "markdown",
   "metadata": {},
   "source": [
    "### Histograms"
   ]
  },
  {
   "cell_type": "code",
   "execution_count": 50,
   "metadata": {},
   "outputs": [
    {
     "data": {
      "text/plain": [
       "(-4.48184058631627, 4.733971158025272)"
      ]
     },
     "execution_count": 50,
     "metadata": {},
     "output_type": "execute_result"
    },
    {
     "data": {
      "image/png": "[encoded data removed]",
      "text/plain": [
       "<Figure size 288x288 with 1 Axes>"
      ]
     },
     "metadata": {},
     "output_type": "display_data"
    }
   ],
   "source": [
    "plt.figure(figsize = (4,4))\n",
    "n = np.random.randn(1000000)\n",
    "plt.hist(n, bins=50)\n",
    "plt.title(\"Default histogram\")\n",
    "plt.xlim(min(n), max(n))"
   ]
  },
  {
   "cell_type": "code",
   "execution_count": 52,
   "metadata": {},
   "outputs": [
    {
     "data": {
      "text/plain": [
       "(-4.48184058631627, 4.733971158025272)"
      ]
     },
     "execution_count": 52,
     "metadata": {},
     "output_type": "execute_result"
    },
    {
     "data": {
      "image/png": "[encoded data removed]",
      "text/plain": [
       "<Figure size 216x216 with 1 Axes>"
      ]
     },
     "metadata": {},
     "output_type": "display_data"
    }
   ],
   "source": [
    "plt.figure(figsize = (3, 3))\n",
    "plt.hist(n, cumulative=True, bins=50)\n",
    "plt.title(\"Cumulative detailed histogram\")\n",
    "plt.xlim(min(n), max(n))"
   ]
  },
  {
   "cell_type": "markdown",
   "metadata": {},
   "source": [
    "### Scatterplots"
   ]
  },
  {
   "cell_type": "raw",
   "metadata": {},
   "source": []
  },
  {
   "cell_type": "code",
   "execution_count": 69,
   "metadata": {},
   "outputs": [
    {
     "data": {
      "text/plain": [
       "<matplotlib.collections.PathCollection at 0x1c4b16b7208>"
      ]
     },
     "execution_count": 69,
     "metadata": {},
     "output_type": "execute_result"
    },
    {
     "data": {
      "image/png": "[encoded data removed]",
      "text/plain": [
       "<Figure size 960x480 with 1 Axes>"
      ]
     },
     "metadata": {},
     "output_type": "display_data"
    }
   ],
   "source": [
    "N = 50\n",
    "x = np.random.rand(N)\n",
    "y = np.random.rand(N)\n",
    "colors = np.random.rand(N)\n",
    "area = x*y*1000\n",
    "\n",
    "plt.figure(figsize = (12,6))\n",
    "plt.style.use('classic')\n",
    "plt.scatter(x, y, s=area, c=colors, alpha=0.5)\n",
    "#c='blue'/ 'red'/ ......"
   ]
  },
  {
   "cell_type": "code",
   "execution_count": null,
   "metadata": {},
   "outputs": [],
   "source": []
  },
  {
   "cell_type": "code",
   "execution_count": null,
   "metadata": {},
   "outputs": [],
   "source": []
  },
  {
   "cell_type": "code",
   "execution_count": null,
   "metadata": {},
   "outputs": [],
   "source": []
  },
  {
   "cell_type": "code",
   "execution_count": null,
   "metadata": {},
   "outputs": [],
   "source": []
  }
 ],
 "metadata": {
  "kernelspec": {
   "display_name": "Python 3",
   "language": "python",
   "name": "python3"
  },
  "language_info": {
   "codemirror_mode": {
    "name": "ipython",
    "version": 3
   },
   "file_extension": ".py",
   "mimetype": "text/x-python",
   "name": "python",
   "nbconvert_exporter": "python",
   "pygments_lexer": "ipython3",
   "version": "3.7.1"
  }
 },
 "nbformat": 4,
 "nbformat_minor": 2
}
